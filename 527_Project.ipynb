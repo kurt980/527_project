{
  "nbformat": 4,
  "nbformat_minor": 0,
  "metadata": {
    "colab": {
      "provenance": [],
      "authorship_tag": "ABX9TyN/QqYhrE3rObZtklSIgXyz",
      "include_colab_link": true
    },
    "kernelspec": {
      "name": "python3",
      "display_name": "Python 3"
    },
    "language_info": {
      "name": "python"
    }
  },
  "cells": [
    {
      "cell_type": "markdown",
      "metadata": {
        "id": "view-in-github",
        "colab_type": "text"
      },
      "source": [
        "<a href=\"https://colab.research.google.com/github/kurt980/kurt980/blob/main/527_Project.ipynb\" target=\"_parent\"><img src=\"https://colab.research.google.com/assets/colab-badge.svg\" alt=\"Open In Colab\"/></a>"
      ]
    },
    {
      "cell_type": "code",
      "execution_count": 263,
      "metadata": {
        "id": "arfS5lYaMgKx"
      },
      "outputs": [],
      "source": [
        "import pandas as pd\n",
        "import numpy as np\n",
        "import sklearn\n",
        "from sklearn.linear_model import LinearRegression\n",
        "from sklearn.model_selection import train_test_split\n",
        "from sklearn.linear_model import LogisticRegression\n",
        "from sklearn.metrics import accuracy_score\n",
        "import matplotlib.pyplot as plt\n",
        "from sklearn.decomposition import PCA as sklearnPCA\n",
        "from sklearn.discriminant_analysis import LinearDiscriminantAnalysis as LDA\n",
        "from sklearn.preprocessing import PolynomialFeatures\n",
        "from sklearn.pipeline import Pipeline"
      ]
    },
    {
      "cell_type": "code",
      "source": [
        "import statsmodels.api as sm"
      ],
      "metadata": {
        "id": "jTzoQYrPMEgw"
      },
      "execution_count": 264,
      "outputs": []
    },
    {
      "cell_type": "code",
      "source": [
        "df = pd.read_csv('/content/games.csv')"
      ],
      "metadata": {
        "id": "mFaSBd33M38F"
      },
      "execution_count": 265,
      "outputs": []
    },
    {
      "cell_type": "code",
      "source": [
        "df.columns"
      ],
      "metadata": {
        "colab": {
          "base_uri": "https://localhost:8080/"
        },
        "id": "FcMQ_0zUM3_B",
        "outputId": "5d2d78ef-8cb1-4d39-bc6f-1df1ea9ae072"
      },
      "execution_count": 266,
      "outputs": [
        {
          "output_type": "execute_result",
          "data": {
            "text/plain": [
              "Index(['GAME_DATE_EST', 'GAME_ID', 'GAME_STATUS_TEXT', 'HOME_TEAM_ID',\n",
              "       'VISITOR_TEAM_ID', 'SEASON', 'TEAM_ID_home', 'PTS_home', 'FG_PCT_home',\n",
              "       'FT_PCT_home', 'FG3_PCT_home', 'AST_home', 'REB_home', 'TEAM_ID_away',\n",
              "       'PTS_away', 'FG_PCT_away', 'FT_PCT_away', 'FG3_PCT_away', 'AST_away',\n",
              "       'REB_away', 'HOME_TEAM_WINS'],\n",
              "      dtype='object')"
            ]
          },
          "metadata": {},
          "execution_count": 266
        }
      ]
    },
    {
      "cell_type": "code",
      "source": [
        "df = df.dropna(axis=0)"
      ],
      "metadata": {
        "id": "-19DrbQhVmM9"
      },
      "execution_count": 267,
      "outputs": []
    },
    {
      "cell_type": "code",
      "source": [
        "df_1 = df.sample(n = 500).loc[:,~df.columns.isin(['GAME_DATE_EST', 'GAME_STATUS_TEXT', 'HOME_TEAM_ID', 'VISITOR_TEAM_ID', 'GAME_ID', 'SEASON', 'TEAM_ID_home', 'TEAM_ID_away', 'PTS_home', 'PTS_away'])]"
      ],
      "metadata": {
        "id": "YRxn6KwsM4HD"
      },
      "execution_count": 268,
      "outputs": []
    },
    {
      "cell_type": "code",
      "source": [
        "x_1 = df_1.loc[:,df_1.columns != 'HOME_TEAM_WINS'].reset_index(drop = True) \n",
        "y_1 = df_1.loc[:,df_1.columns == 'HOME_TEAM_WINS'].reset_index(drop = True)"
      ],
      "metadata": {
        "id": "vN1Ob1NCUkQK"
      },
      "execution_count": 269,
      "outputs": []
    },
    {
      "cell_type": "code",
      "source": [
        "x_num = x_1.select_dtypes(include='number')"
      ],
      "metadata": {
        "id": "D4kR5F1sOsxm"
      },
      "execution_count": 270,
      "outputs": []
    },
    {
      "cell_type": "code",
      "source": [
        "x_norm = (x_num - x_num.mean()) / (x_num.max() - x_num.min())"
      ],
      "metadata": {
        "id": "EqYfLQGgM4Jh"
      },
      "execution_count": 271,
      "outputs": []
    },
    {
      "cell_type": "code",
      "source": [
        "x_1[x_norm.columns] = x_norm"
      ],
      "metadata": {
        "id": "BS6cUuCoM4L1"
      },
      "execution_count": 272,
      "outputs": []
    },
    {
      "cell_type": "code",
      "source": [
        "x_1"
      ],
      "metadata": {
        "id": "qNIXVcOxM4OT",
        "colab": {
          "base_uri": "https://localhost:8080/",
          "height": 424
        },
        "outputId": "c701eddf-5c3f-49f9-f3d6-eebe9da55a49"
      },
      "execution_count": 273,
      "outputs": [
        {
          "output_type": "execute_result",
          "data": {
            "text/plain": [
              "     FG_PCT_home  FT_PCT_home  FG3_PCT_home  AST_home  REB_home  FG_PCT_away  \\\n",
              "0      -0.082693    -0.178588      0.061032  0.012897    0.3481    -0.164101   \n",
              "1      -0.472786    -0.188822     -0.294968 -0.228483    0.3731    -0.279485   \n",
              "2       0.065913     0.053868     -0.090968 -0.194000   -0.2519     0.043000   \n",
              "3       0.056625     0.068488     -0.190968 -0.194000   -0.1019    -0.101970   \n",
              "4      -0.085789     0.056792      0.305032 -0.159517    0.0231    -0.039840   \n",
              "..           ...          ...           ...       ...       ...          ...   \n",
              "495     0.214520     0.012933     -0.028301  0.185310   -0.0519    -0.084219   \n",
              "496    -0.073406    -0.301395      0.238365 -0.090552   -0.1269     0.004538   \n",
              "497     0.146409    -0.049933     -0.066968 -0.194000   -0.2269    -0.096053   \n",
              "498    -0.129133    -0.080635      0.086365  0.047379   -0.1519     0.368444   \n",
              "499    -0.203437     0.118196      0.047699  0.116345    0.1731    -0.036882   \n",
              "\n",
              "     FT_PCT_away  FG3_PCT_away  AST_away  REB_away  \n",
              "0       0.241577      0.100501  0.044303  0.098103  \n",
              "1      -0.095754     -0.429580 -0.107212  0.354513  \n",
              "2      -0.031286     -0.003564 -0.289030 -0.055744  \n",
              "3       0.093151      0.001314  0.044303 -0.132667  \n",
              "4       0.102147      0.066354 -0.046606 -0.107026  \n",
              "..           ...           ...       ...       ...  \n",
              "495     0.040678     -0.042589 -0.046606 -0.055744  \n",
              "496    -0.233685     -0.297873  0.135212 -0.081385  \n",
              "497    -0.008798      0.228956 -0.228424 -0.363436  \n",
              "498    -0.071766      0.206192  0.347333  0.277590  \n",
              "499    -0.020792     -0.053971 -0.016303  0.175026  \n",
              "\n",
              "[500 rows x 10 columns]"
            ],
            "text/html": [
              "\n",
              "  <div id=\"df-5a7c3ea8-66e9-4e93-9c31-dc4467c654b7\">\n",
              "    <div class=\"colab-df-container\">\n",
              "      <div>\n",
              "<style scoped>\n",
              "    .dataframe tbody tr th:only-of-type {\n",
              "        vertical-align: middle;\n",
              "    }\n",
              "\n",
              "    .dataframe tbody tr th {\n",
              "        vertical-align: top;\n",
              "    }\n",
              "\n",
              "    .dataframe thead th {\n",
              "        text-align: right;\n",
              "    }\n",
              "</style>\n",
              "<table border=\"1\" class=\"dataframe\">\n",
              "  <thead>\n",
              "    <tr style=\"text-align: right;\">\n",
              "      <th></th>\n",
              "      <th>FG_PCT_home</th>\n",
              "      <th>FT_PCT_home</th>\n",
              "      <th>FG3_PCT_home</th>\n",
              "      <th>AST_home</th>\n",
              "      <th>REB_home</th>\n",
              "      <th>FG_PCT_away</th>\n",
              "      <th>FT_PCT_away</th>\n",
              "      <th>FG3_PCT_away</th>\n",
              "      <th>AST_away</th>\n",
              "      <th>REB_away</th>\n",
              "    </tr>\n",
              "  </thead>\n",
              "  <tbody>\n",
              "    <tr>\n",
              "      <th>0</th>\n",
              "      <td>-0.082693</td>\n",
              "      <td>-0.178588</td>\n",
              "      <td>0.061032</td>\n",
              "      <td>0.012897</td>\n",
              "      <td>0.3481</td>\n",
              "      <td>-0.164101</td>\n",
              "      <td>0.241577</td>\n",
              "      <td>0.100501</td>\n",
              "      <td>0.044303</td>\n",
              "      <td>0.098103</td>\n",
              "    </tr>\n",
              "    <tr>\n",
              "      <th>1</th>\n",
              "      <td>-0.472786</td>\n",
              "      <td>-0.188822</td>\n",
              "      <td>-0.294968</td>\n",
              "      <td>-0.228483</td>\n",
              "      <td>0.3731</td>\n",
              "      <td>-0.279485</td>\n",
              "      <td>-0.095754</td>\n",
              "      <td>-0.429580</td>\n",
              "      <td>-0.107212</td>\n",
              "      <td>0.354513</td>\n",
              "    </tr>\n",
              "    <tr>\n",
              "      <th>2</th>\n",
              "      <td>0.065913</td>\n",
              "      <td>0.053868</td>\n",
              "      <td>-0.090968</td>\n",
              "      <td>-0.194000</td>\n",
              "      <td>-0.2519</td>\n",
              "      <td>0.043000</td>\n",
              "      <td>-0.031286</td>\n",
              "      <td>-0.003564</td>\n",
              "      <td>-0.289030</td>\n",
              "      <td>-0.055744</td>\n",
              "    </tr>\n",
              "    <tr>\n",
              "      <th>3</th>\n",
              "      <td>0.056625</td>\n",
              "      <td>0.068488</td>\n",
              "      <td>-0.190968</td>\n",
              "      <td>-0.194000</td>\n",
              "      <td>-0.1019</td>\n",
              "      <td>-0.101970</td>\n",
              "      <td>0.093151</td>\n",
              "      <td>0.001314</td>\n",
              "      <td>0.044303</td>\n",
              "      <td>-0.132667</td>\n",
              "    </tr>\n",
              "    <tr>\n",
              "      <th>4</th>\n",
              "      <td>-0.085789</td>\n",
              "      <td>0.056792</td>\n",
              "      <td>0.305032</td>\n",
              "      <td>-0.159517</td>\n",
              "      <td>0.0231</td>\n",
              "      <td>-0.039840</td>\n",
              "      <td>0.102147</td>\n",
              "      <td>0.066354</td>\n",
              "      <td>-0.046606</td>\n",
              "      <td>-0.107026</td>\n",
              "    </tr>\n",
              "    <tr>\n",
              "      <th>...</th>\n",
              "      <td>...</td>\n",
              "      <td>...</td>\n",
              "      <td>...</td>\n",
              "      <td>...</td>\n",
              "      <td>...</td>\n",
              "      <td>...</td>\n",
              "      <td>...</td>\n",
              "      <td>...</td>\n",
              "      <td>...</td>\n",
              "      <td>...</td>\n",
              "    </tr>\n",
              "    <tr>\n",
              "      <th>495</th>\n",
              "      <td>0.214520</td>\n",
              "      <td>0.012933</td>\n",
              "      <td>-0.028301</td>\n",
              "      <td>0.185310</td>\n",
              "      <td>-0.0519</td>\n",
              "      <td>-0.084219</td>\n",
              "      <td>0.040678</td>\n",
              "      <td>-0.042589</td>\n",
              "      <td>-0.046606</td>\n",
              "      <td>-0.055744</td>\n",
              "    </tr>\n",
              "    <tr>\n",
              "      <th>496</th>\n",
              "      <td>-0.073406</td>\n",
              "      <td>-0.301395</td>\n",
              "      <td>0.238365</td>\n",
              "      <td>-0.090552</td>\n",
              "      <td>-0.1269</td>\n",
              "      <td>0.004538</td>\n",
              "      <td>-0.233685</td>\n",
              "      <td>-0.297873</td>\n",
              "      <td>0.135212</td>\n",
              "      <td>-0.081385</td>\n",
              "    </tr>\n",
              "    <tr>\n",
              "      <th>497</th>\n",
              "      <td>0.146409</td>\n",
              "      <td>-0.049933</td>\n",
              "      <td>-0.066968</td>\n",
              "      <td>-0.194000</td>\n",
              "      <td>-0.2269</td>\n",
              "      <td>-0.096053</td>\n",
              "      <td>-0.008798</td>\n",
              "      <td>0.228956</td>\n",
              "      <td>-0.228424</td>\n",
              "      <td>-0.363436</td>\n",
              "    </tr>\n",
              "    <tr>\n",
              "      <th>498</th>\n",
              "      <td>-0.129133</td>\n",
              "      <td>-0.080635</td>\n",
              "      <td>0.086365</td>\n",
              "      <td>0.047379</td>\n",
              "      <td>-0.1519</td>\n",
              "      <td>0.368444</td>\n",
              "      <td>-0.071766</td>\n",
              "      <td>0.206192</td>\n",
              "      <td>0.347333</td>\n",
              "      <td>0.277590</td>\n",
              "    </tr>\n",
              "    <tr>\n",
              "      <th>499</th>\n",
              "      <td>-0.203437</td>\n",
              "      <td>0.118196</td>\n",
              "      <td>0.047699</td>\n",
              "      <td>0.116345</td>\n",
              "      <td>0.1731</td>\n",
              "      <td>-0.036882</td>\n",
              "      <td>-0.020792</td>\n",
              "      <td>-0.053971</td>\n",
              "      <td>-0.016303</td>\n",
              "      <td>0.175026</td>\n",
              "    </tr>\n",
              "  </tbody>\n",
              "</table>\n",
              "<p>500 rows × 10 columns</p>\n",
              "</div>\n",
              "      <button class=\"colab-df-convert\" onclick=\"convertToInteractive('df-5a7c3ea8-66e9-4e93-9c31-dc4467c654b7')\"\n",
              "              title=\"Convert this dataframe to an interactive table.\"\n",
              "              style=\"display:none;\">\n",
              "        \n",
              "  <svg xmlns=\"http://www.w3.org/2000/svg\" height=\"24px\"viewBox=\"0 0 24 24\"\n",
              "       width=\"24px\">\n",
              "    <path d=\"M0 0h24v24H0V0z\" fill=\"none\"/>\n",
              "    <path d=\"M18.56 5.44l.94 2.06.94-2.06 2.06-.94-2.06-.94-.94-2.06-.94 2.06-2.06.94zm-11 1L8.5 8.5l.94-2.06 2.06-.94-2.06-.94L8.5 2.5l-.94 2.06-2.06.94zm10 10l.94 2.06.94-2.06 2.06-.94-2.06-.94-.94-2.06-.94 2.06-2.06.94z\"/><path d=\"M17.41 7.96l-1.37-1.37c-.4-.4-.92-.59-1.43-.59-.52 0-1.04.2-1.43.59L10.3 9.45l-7.72 7.72c-.78.78-.78 2.05 0 2.83L4 21.41c.39.39.9.59 1.41.59.51 0 1.02-.2 1.41-.59l7.78-7.78 2.81-2.81c.8-.78.8-2.07 0-2.86zM5.41 20L4 18.59l7.72-7.72 1.47 1.35L5.41 20z\"/>\n",
              "  </svg>\n",
              "      </button>\n",
              "      \n",
              "  <style>\n",
              "    .colab-df-container {\n",
              "      display:flex;\n",
              "      flex-wrap:wrap;\n",
              "      gap: 12px;\n",
              "    }\n",
              "\n",
              "    .colab-df-convert {\n",
              "      background-color: #E8F0FE;\n",
              "      border: none;\n",
              "      border-radius: 50%;\n",
              "      cursor: pointer;\n",
              "      display: none;\n",
              "      fill: #1967D2;\n",
              "      height: 32px;\n",
              "      padding: 0 0 0 0;\n",
              "      width: 32px;\n",
              "    }\n",
              "\n",
              "    .colab-df-convert:hover {\n",
              "      background-color: #E2EBFA;\n",
              "      box-shadow: 0px 1px 2px rgba(60, 64, 67, 0.3), 0px 1px 3px 1px rgba(60, 64, 67, 0.15);\n",
              "      fill: #174EA6;\n",
              "    }\n",
              "\n",
              "    [theme=dark] .colab-df-convert {\n",
              "      background-color: #3B4455;\n",
              "      fill: #D2E3FC;\n",
              "    }\n",
              "\n",
              "    [theme=dark] .colab-df-convert:hover {\n",
              "      background-color: #434B5C;\n",
              "      box-shadow: 0px 1px 3px 1px rgba(0, 0, 0, 0.15);\n",
              "      filter: drop-shadow(0px 1px 2px rgba(0, 0, 0, 0.3));\n",
              "      fill: #FFFFFF;\n",
              "    }\n",
              "  </style>\n",
              "\n",
              "      <script>\n",
              "        const buttonEl =\n",
              "          document.querySelector('#df-5a7c3ea8-66e9-4e93-9c31-dc4467c654b7 button.colab-df-convert');\n",
              "        buttonEl.style.display =\n",
              "          google.colab.kernel.accessAllowed ? 'block' : 'none';\n",
              "\n",
              "        async function convertToInteractive(key) {\n",
              "          const element = document.querySelector('#df-5a7c3ea8-66e9-4e93-9c31-dc4467c654b7');\n",
              "          const dataTable =\n",
              "            await google.colab.kernel.invokeFunction('convertToInteractive',\n",
              "                                                     [key], {});\n",
              "          if (!dataTable) return;\n",
              "\n",
              "          const docLinkHtml = 'Like what you see? Visit the ' +\n",
              "            '<a target=\"_blank\" href=https://colab.research.google.com/notebooks/data_table.ipynb>data table notebook</a>'\n",
              "            + ' to learn more about interactive tables.';\n",
              "          element.innerHTML = '';\n",
              "          dataTable['output_type'] = 'display_data';\n",
              "          await google.colab.output.renderOutput(dataTable, element);\n",
              "          const docLink = document.createElement('div');\n",
              "          docLink.innerHTML = docLinkHtml;\n",
              "          element.appendChild(docLink);\n",
              "        }\n",
              "      </script>\n",
              "    </div>\n",
              "  </div>\n",
              "  "
            ]
          },
          "metadata": {},
          "execution_count": 273
        }
      ]
    },
    {
      "cell_type": "code",
      "source": [
        "pca = sklearnPCA(n_components=2) #2-dimensional PCA\n",
        "transformed = pd.DataFrame(pca.fit_transform(x_1))"
      ],
      "metadata": {
        "id": "_cEPTdfGTg58"
      },
      "execution_count": 274,
      "outputs": []
    },
    {
      "cell_type": "code",
      "source": [
        "y_1 = y_1['HOME_TEAM_WINS']"
      ],
      "metadata": {
        "id": "kgsDP2VRWwuK"
      },
      "execution_count": 275,
      "outputs": []
    },
    {
      "cell_type": "code",
      "source": [
        "plt.scatter(transformed[y_1==1][0], transformed[y_1==1][1], label='WIN', c='red')\n",
        "plt.scatter(transformed[y_1==0][0], transformed[y_1==0][1], label='LOSS', c='blue')\n",
        "\n",
        "plt.legend()\n",
        "plt.show()"
      ],
      "metadata": {
        "colab": {
          "base_uri": "https://localhost:8080/",
          "height": 265
        },
        "id": "JHgvwS3HTg85",
        "outputId": "e32be945-661e-459a-d521-83d394b5a1bb"
      },
      "execution_count": 276,
      "outputs": [
        {
          "output_type": "display_data",
          "data": {
            "text/plain": [
              "<Figure size 432x288 with 1 Axes>"
            ],
            "image/png": "[encoded data removed]"
          },
          "metadata": {
            "needs_background": "light"
          }
        }
      ]
    },
    {
      "cell_type": "markdown",
      "source": [
        "Logistic Regression"
      ],
      "metadata": {
        "id": "wcJDlxnVJrs5"
      }
    },
    {
      "cell_type": "code",
      "source": [
        "log_reg = sm.Logit(y_train, x_train).fit()"
      ],
      "metadata": {
        "id": "Ght66J7ImSoA"
      },
      "execution_count": null,
      "outputs": []
    },
    {
      "cell_type": "code",
      "source": [
        "# split train and test by 4:1\n",
        "x_train, x_test, y_train, y_test = train_test_split(x_1,y_1,test_size=0.2)"
      ],
      "metadata": {
        "id": "hvON64HhmSql"
      },
      "execution_count": 302,
      "outputs": []
    },
    {
      "cell_type": "code",
      "source": [
        "accuracy_score(y_test, list(map(round, log_reg.predict(x_test))))"
      ],
      "metadata": {
        "colab": {
          "base_uri": "https://localhost:8080/"
        },
        "id": "8dGT6muhmS04",
        "outputId": "f7972b18-af3c-41e6-a564-1e81a9071191"
      },
      "execution_count": 303,
      "outputs": [
        {
          "output_type": "execute_result",
          "data": {
            "text/plain": [
              "0.78"
            ]
          },
          "metadata": {},
          "execution_count": 303
        }
      ]
    },
    {
      "cell_type": "code",
      "source": [
        "print(log_reg.summary())"
      ],
      "metadata": {
        "colab": {
          "base_uri": "https://localhost:8080/"
        },
        "id": "6J7YFFUvmS3V",
        "outputId": "3d3e2b3c-18d0-44a7-9628-456d9608baec"
      },
      "execution_count": 304,
      "outputs": [
        {
          "output_type": "stream",
          "name": "stdout",
          "text": [
            "                           Logit Regression Results                           \n",
            "==============================================================================\n",
            "Dep. Variable:         HOME_TEAM_WINS   No. Observations:                  400\n",
            "Model:                          Logit   Df Residuals:                      390\n",
            "Method:                           MLE   Df Model:                            9\n",
            "Date:                Tue, 06 Dec 2022   Pseudo R-squ.:                  0.4566\n",
            "Time:                        04:14:34   Log-Likelihood:                -147.31\n",
            "converged:                       True   LL-Null:                       -271.10\n",
            "Covariance Type:            nonrobust   LLR p-value:                 3.229e-48\n",
            "================================================================================\n",
            "                   coef    std err          z      P>|z|      [0.025      0.975]\n",
            "--------------------------------------------------------------------------------\n",
            "FG_PCT_home      9.3909      1.462      6.421      0.000       6.525      12.257\n",
            "FT_PCT_home      3.3241      1.064      3.125      0.002       1.239       5.409\n",
            "FG3_PCT_home     3.6339      1.117      3.254      0.001       1.445       5.823\n",
            "AST_home         1.3939      1.028      1.356      0.175      -0.621       3.409\n",
            "REB_home         3.1458      1.098      2.864      0.004       0.993       5.298\n",
            "FG_PCT_away     -8.4796      1.495     -5.672      0.000     -11.410      -5.550\n",
            "FT_PCT_away     -3.9588      1.020     -3.882      0.000      -5.958      -1.960\n",
            "FG3_PCT_away    -2.6697      1.035     -2.580      0.010      -4.698      -0.642\n",
            "AST_away        -1.8169      1.240     -1.465      0.143      -4.247       0.613\n",
            "REB_away        -3.1792      1.065     -2.986      0.003      -5.266      -1.092\n",
            "================================================================================\n"
          ]
        }
      ]
    },
    {
      "cell_type": "markdown",
      "source": [
        "Polynomial Logistic"
      ],
      "metadata": {
        "id": "E4Zf-qJGf6RG"
      }
    },
    {
      "cell_type": "code",
      "source": [
        "poly = PolynomialFeatures(degree = 1, interaction_only=False, include_bias = True)\n",
        "x_poly = poly.fit_transform(x_train)\n",
        "x_poly.shape"
      ],
      "metadata": {
        "colab": {
          "base_uri": "https://localhost:8080/"
        },
        "id": "gN7Q3_lsf9DY",
        "outputId": "57c0dbc7-c356-4fe4-b4e4-6ab57644fc06"
      },
      "execution_count": 312,
      "outputs": [
        {
          "output_type": "execute_result",
          "data": {
            "text/plain": [
              "(400, 11)"
            ]
          },
          "metadata": {},
          "execution_count": 312
        }
      ]
    },
    {
      "cell_type": "code",
      "source": [
        "log_reg_poly = sm.Logit(y_train, x_poly).fit()"
      ],
      "metadata": {
        "colab": {
          "base_uri": "https://localhost:8080/"
        },
        "id": "ddXFV64zf9F2",
        "outputId": "e638a3ec-1470-4e7d-b7b6-7f60f353214f"
      },
      "execution_count": 313,
      "outputs": [
        {
          "output_type": "stream",
          "name": "stdout",
          "text": [
            "Optimization terminated successfully.\n",
            "         Current function value: 0.303754\n",
            "         Iterations 8\n"
          ]
        }
      ]
    },
    {
      "cell_type": "code",
      "source": [
        "print(log_reg_poly.summary())"
      ],
      "metadata": {
        "id": "53TPVoLShAd3"
      },
      "execution_count": null,
      "outputs": []
    },
    {
      "cell_type": "code",
      "source": [
        "accuracy_score(y_test, list(map(round, log_reg_poly.predict(poly.fit_transform(x_test)))))"
      ],
      "metadata": {
        "colab": {
          "base_uri": "https://localhost:8080/"
        },
        "id": "XvGPau6thAgT",
        "outputId": "929f33c7-721e-497e-d0b3-d7510909d6db"
      },
      "execution_count": 315,
      "outputs": [
        {
          "output_type": "execute_result",
          "data": {
            "text/plain": [
              "0.8"
            ]
          },
          "metadata": {},
          "execution_count": 315
        }
      ]
    },
    {
      "cell_type": "code",
      "source": [],
      "metadata": {
        "id": "mb5dQ39lhAie"
      },
      "execution_count": null,
      "outputs": []
    },
    {
      "cell_type": "code",
      "source": [],
      "metadata": {
        "id": "1GHu0A9Vp7Hi"
      },
      "execution_count": null,
      "outputs": []
    },
    {
      "cell_type": "code",
      "source": [],
      "metadata": {
        "id": "SUTw_GdIp7KM"
      },
      "execution_count": null,
      "outputs": []
    },
    {
      "cell_type": "code",
      "source": [],
      "metadata": {
        "id": "VBmpobyNp7L2"
      },
      "execution_count": null,
      "outputs": []
    }
  ]
}