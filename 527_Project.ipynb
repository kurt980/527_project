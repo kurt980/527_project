{
  "nbformat": 4,
  "nbformat_minor": 0,
  "metadata": {
    "colab": {
      "provenance": [],
      "authorship_tag": "ABX9TyM65HR3okHDFmuR4Lc670rp",
      "include_colab_link": true
    },
    "kernelspec": {
      "name": "python3",
      "display_name": "Python 3"
    },
    "language_info": {
      "name": "python"
    }
  },
  "cells": [
    {
      "cell_type": "markdown",
      "metadata": {
        "id": "view-in-github",
        "colab_type": "text"
      },
      "source": [
        "<a href=\"https://colab.research.google.com/github/kurt980/527_project/blob/main/527_Project.ipynb\" target=\"_parent\"><img src=\"https://colab.research.google.com/assets/colab-badge.svg\" alt=\"Open In Colab\"/></a>"
      ]
    },
    {
      "cell_type": "code",
      "execution_count": 234,
      "metadata": {
        "id": "arfS5lYaMgKx"
      },
      "outputs": [],
      "source": [
        "import pandas as pd\n",
        "import numpy as np\n",
        "import sklearn\n",
        "from sklearn.linear_model import LinearRegression\n",
        "from sklearn.model_selection import train_test_split\n",
        "from sklearn.linear_model import LogisticRegression\n",
        "from sklearn.metrics import accuracy_score\n",
        "import matplotlib.pyplot as plt\n",
        "from matplotlib import pyplot\n",
        "from sklearn.decomposition import PCA as sklearnPCA\n",
        "from sklearn.discriminant_analysis import LinearDiscriminantAnalysis as LDA\n",
        "from sklearn.preprocessing import PolynomialFeatures\n",
        "from sklearn.pipeline import Pipeline"
      ]
    },
    {
      "cell_type": "code",
      "source": [
        "import statsmodels.api as sm\n",
        "import statsmodels.formula.api as smf"
      ],
      "metadata": {
        "id": "jTzoQYrPMEgw"
      },
      "execution_count": 3,
      "outputs": []
    },
    {
      "cell_type": "code",
      "source": [
        "df = pd.read_csv('/content/sample_data/box_score.csv')\n",
        "df = df.dropna(axis=0)\n",
        "df_1 = df.sample(1000).loc[:,~df.columns.isin(['GAME_DATE', 'MATCH_UP', 'TEAM', 'MIN', 'REB', 'PD','FTA','FGA','TPA'])]\n",
        "df_1['W_L'] = pd.get_dummies(df_1['W_L'])['W']\n",
        "x_1 = df_1.loc[:,df_1.columns != 'W_L'].reset_index(drop = True) \n",
        "x_1norm = (x_1 - x_1.mean()) / (x_1.max() - x_1.min())\n",
        "x_1[x_1norm.columns] = x_1norm\n",
        "y_1 = df_1.loc[:,df_1.columns == 'W_L'].reset_index(drop = True)\n",
        "y_1 = y_1['W_L']"
      ],
      "metadata": {
        "id": "mFaSBd33M38F"
      },
      "execution_count": 213,
      "outputs": []
    },
    {
      "cell_type": "code",
      "source": [
        "df.head(5)"
      ],
      "metadata": {
        "colab": {
          "base_uri": "https://localhost:8080/",
          "height": 235
        },
        "id": "-d5_zwboZLU-",
        "outputId": "f9dd4570-82fe-4223-ae17-d5482730d706"
      },
      "execution_count": 285,
      "outputs": [
        {
          "output_type": "execute_result",
          "data": {
            "text/plain": [
              "  TEAM     MATCH_UP  GAME_DATE W_L  MIN  PTS  FGM  FGA    FG  TPM  ...     FT  \\\n",
              "0  LAC    LAC @ MIA  12/8/2022   L   48  110   37   80  46.3   17  ...   90.5   \n",
              "1  SAS  SAS vs. HOU  12/8/2022   W   48  118   46   83  55.4   13  ...   86.7   \n",
              "2  POR  POR vs. DEN  12/8/2022   L   48  120   44   91  48.4   16  ...  100.0   \n",
              "3  DEN    DEN @ POR  12/8/2022   W   48  121   47   91  51.6   12  ...   68.2   \n",
              "4  HOU    HOU @ SAS  12/8/2022   L   48  109   44   98  44.9   10  ...   73.3   \n",
              "\n",
              "   OREB  DREB  REB  AST  TOV  STL  BLK  PF  PD  \n",
              "0     7    36   43   24   16    3    3  16  -5  \n",
              "1     7    31   38   25   17    5    7  19   9  \n",
              "2    13    25   38   30   13   10    3  20  -1  \n",
              "3    16    32   48   28   16    6    5  16   1  \n",
              "4    16    26   42   23   14    3    4  19  -9  \n",
              "\n",
              "[5 rows x 24 columns]"
            ],
            "text/html": [
              "\n",
              "  <div id=\"df-22f375b8-8321-4f87-9622-07bf8d29e8a3\">\n",
              "    <div class=\"colab-df-container\">\n",
              "      <div>\n",
              "<style scoped>\n",
              "    .dataframe tbody tr th:only-of-type {\n",
              "        vertical-align: middle;\n",
              "    }\n",
              "\n",
              "    .dataframe tbody tr th {\n",
              "        vertical-align: top;\n",
              "    }\n",
              "\n",
              "    .dataframe thead th {\n",
              "        text-align: right;\n",
              "    }\n",
              "</style>\n",
              "<table border=\"1\" class=\"dataframe\">\n",
              "  <thead>\n",
              "    <tr style=\"text-align: right;\">\n",
              "      <th></th>\n",
              "      <th>TEAM</th>\n",
              "      <th>MATCH_UP</th>\n",
              "      <th>GAME_DATE</th>\n",
              "      <th>W_L</th>\n",
              "      <th>MIN</th>\n",
              "      <th>PTS</th>\n",
              "      <th>FGM</th>\n",
              "      <th>FGA</th>\n",
              "      <th>FG</th>\n",
              "      <th>TPM</th>\n",
              "      <th>...</th>\n",
              "      <th>FT</th>\n",
              "      <th>OREB</th>\n",
              "      <th>DREB</th>\n",
              "      <th>REB</th>\n",
              "      <th>AST</th>\n",
              "      <th>TOV</th>\n",
              "      <th>STL</th>\n",
              "      <th>BLK</th>\n",
              "      <th>PF</th>\n",
              "      <th>PD</th>\n",
              "    </tr>\n",
              "  </thead>\n",
              "  <tbody>\n",
              "    <tr>\n",
              "      <th>0</th>\n",
              "      <td>LAC</td>\n",
              "      <td>LAC @ MIA</td>\n",
              "      <td>12/8/2022</td>\n",
              "      <td>L</td>\n",
              "      <td>48</td>\n",
              "      <td>110</td>\n",
              "      <td>37</td>\n",
              "      <td>80</td>\n",
              "      <td>46.3</td>\n",
              "      <td>17</td>\n",
              "      <td>...</td>\n",
              "      <td>90.5</td>\n",
              "      <td>7</td>\n",
              "      <td>36</td>\n",
              "      <td>43</td>\n",
              "      <td>24</td>\n",
              "      <td>16</td>\n",
              "      <td>3</td>\n",
              "      <td>3</td>\n",
              "      <td>16</td>\n",
              "      <td>-5</td>\n",
              "    </tr>\n",
              "    <tr>\n",
              "      <th>1</th>\n",
              "      <td>SAS</td>\n",
              "      <td>SAS vs. HOU</td>\n",
              "      <td>12/8/2022</td>\n",
              "      <td>W</td>\n",
              "      <td>48</td>\n",
              "      <td>118</td>\n",
              "      <td>46</td>\n",
              "      <td>83</td>\n",
              "      <td>55.4</td>\n",
              "      <td>13</td>\n",
              "      <td>...</td>\n",
              "      <td>86.7</td>\n",
              "      <td>7</td>\n",
              "      <td>31</td>\n",
              "      <td>38</td>\n",
              "      <td>25</td>\n",
              "      <td>17</td>\n",
              "      <td>5</td>\n",
              "      <td>7</td>\n",
              "      <td>19</td>\n",
              "      <td>9</td>\n",
              "    </tr>\n",
              "    <tr>\n",
              "      <th>2</th>\n",
              "      <td>POR</td>\n",
              "      <td>POR vs. DEN</td>\n",
              "      <td>12/8/2022</td>\n",
              "      <td>L</td>\n",
              "      <td>48</td>\n",
              "      <td>120</td>\n",
              "      <td>44</td>\n",
              "      <td>91</td>\n",
              "      <td>48.4</td>\n",
              "      <td>16</td>\n",
              "      <td>...</td>\n",
              "      <td>100.0</td>\n",
              "      <td>13</td>\n",
              "      <td>25</td>\n",
              "      <td>38</td>\n",
              "      <td>30</td>\n",
              "      <td>13</td>\n",
              "      <td>10</td>\n",
              "      <td>3</td>\n",
              "      <td>20</td>\n",
              "      <td>-1</td>\n",
              "    </tr>\n",
              "    <tr>\n",
              "      <th>3</th>\n",
              "      <td>DEN</td>\n",
              "      <td>DEN @ POR</td>\n",
              "      <td>12/8/2022</td>\n",
              "      <td>W</td>\n",
              "      <td>48</td>\n",
              "      <td>121</td>\n",
              "      <td>47</td>\n",
              "      <td>91</td>\n",
              "      <td>51.6</td>\n",
              "      <td>12</td>\n",
              "      <td>...</td>\n",
              "      <td>68.2</td>\n",
              "      <td>16</td>\n",
              "      <td>32</td>\n",
              "      <td>48</td>\n",
              "      <td>28</td>\n",
              "      <td>16</td>\n",
              "      <td>6</td>\n",
              "      <td>5</td>\n",
              "      <td>16</td>\n",
              "      <td>1</td>\n",
              "    </tr>\n",
              "    <tr>\n",
              "      <th>4</th>\n",
              "      <td>HOU</td>\n",
              "      <td>HOU @ SAS</td>\n",
              "      <td>12/8/2022</td>\n",
              "      <td>L</td>\n",
              "      <td>48</td>\n",
              "      <td>109</td>\n",
              "      <td>44</td>\n",
              "      <td>98</td>\n",
              "      <td>44.9</td>\n",
              "      <td>10</td>\n",
              "      <td>...</td>\n",
              "      <td>73.3</td>\n",
              "      <td>16</td>\n",
              "      <td>26</td>\n",
              "      <td>42</td>\n",
              "      <td>23</td>\n",
              "      <td>14</td>\n",
              "      <td>3</td>\n",
              "      <td>4</td>\n",
              "      <td>19</td>\n",
              "      <td>-9</td>\n",
              "    </tr>\n",
              "  </tbody>\n",
              "</table>\n",
              "<p>5 rows × 24 columns</p>\n",
              "</div>\n",
              "      <button class=\"colab-df-convert\" onclick=\"convertToInteractive('df-22f375b8-8321-4f87-9622-07bf8d29e8a3')\"\n",
              "              title=\"Convert this dataframe to an interactive table.\"\n",
              "              style=\"display:none;\">\n",
              "        \n",
              "  <svg xmlns=\"http://www.w3.org/2000/svg\" height=\"24px\"viewBox=\"0 0 24 24\"\n",
              "       width=\"24px\">\n",
              "    <path d=\"M0 0h24v24H0V0z\" fill=\"none\"/>\n",
              "    <path d=\"M18.56 5.44l.94 2.06.94-2.06 2.06-.94-2.06-.94-.94-2.06-.94 2.06-2.06.94zm-11 1L8.5 8.5l.94-2.06 2.06-.94-2.06-.94L8.5 2.5l-.94 2.06-2.06.94zm10 10l.94 2.06.94-2.06 2.06-.94-2.06-.94-.94-2.06-.94 2.06-2.06.94z\"/><path d=\"M17.41 7.96l-1.37-1.37c-.4-.4-.92-.59-1.43-.59-.52 0-1.04.2-1.43.59L10.3 9.45l-7.72 7.72c-.78.78-.78 2.05 0 2.83L4 21.41c.39.39.9.59 1.41.59.51 0 1.02-.2 1.41-.59l7.78-7.78 2.81-2.81c.8-.78.8-2.07 0-2.86zM5.41 20L4 18.59l7.72-7.72 1.47 1.35L5.41 20z\"/>\n",
              "  </svg>\n",
              "      </button>\n",
              "      \n",
              "  <style>\n",
              "    .colab-df-container {\n",
              "      display:flex;\n",
              "      flex-wrap:wrap;\n",
              "      gap: 12px;\n",
              "    }\n",
              "\n",
              "    .colab-df-convert {\n",
              "      background-color: #E8F0FE;\n",
              "      border: none;\n",
              "      border-radius: 50%;\n",
              "      cursor: pointer;\n",
              "      display: none;\n",
              "      fill: #1967D2;\n",
              "      height: 32px;\n",
              "      padding: 0 0 0 0;\n",
              "      width: 32px;\n",
              "    }\n",
              "\n",
              "    .colab-df-convert:hover {\n",
              "      background-color: #E2EBFA;\n",
              "      box-shadow: 0px 1px 2px rgba(60, 64, 67, 0.3), 0px 1px 3px 1px rgba(60, 64, 67, 0.15);\n",
              "      fill: #174EA6;\n",
              "    }\n",
              "\n",
              "    [theme=dark] .colab-df-convert {\n",
              "      background-color: #3B4455;\n",
              "      fill: #D2E3FC;\n",
              "    }\n",
              "\n",
              "    [theme=dark] .colab-df-convert:hover {\n",
              "      background-color: #434B5C;\n",
              "      box-shadow: 0px 1px 3px 1px rgba(0, 0, 0, 0.15);\n",
              "      filter: drop-shadow(0px 1px 2px rgba(0, 0, 0, 0.3));\n",
              "      fill: #FFFFFF;\n",
              "    }\n",
              "  </style>\n",
              "\n",
              "      <script>\n",
              "        const buttonEl =\n",
              "          document.querySelector('#df-22f375b8-8321-4f87-9622-07bf8d29e8a3 button.colab-df-convert');\n",
              "        buttonEl.style.display =\n",
              "          google.colab.kernel.accessAllowed ? 'block' : 'none';\n",
              "\n",
              "        async function convertToInteractive(key) {\n",
              "          const element = document.querySelector('#df-22f375b8-8321-4f87-9622-07bf8d29e8a3');\n",
              "          const dataTable =\n",
              "            await google.colab.kernel.invokeFunction('convertToInteractive',\n",
              "                                                     [key], {});\n",
              "          if (!dataTable) return;\n",
              "\n",
              "          const docLinkHtml = 'Like what you see? Visit the ' +\n",
              "            '<a target=\"_blank\" href=https://colab.research.google.com/notebooks/data_table.ipynb>data table notebook</a>'\n",
              "            + ' to learn more about interactive tables.';\n",
              "          element.innerHTML = '';\n",
              "          dataTable['output_type'] = 'display_data';\n",
              "          await google.colab.output.renderOutput(dataTable, element);\n",
              "          const docLink = document.createElement('div');\n",
              "          docLink.innerHTML = docLinkHtml;\n",
              "          element.appendChild(docLink);\n",
              "        }\n",
              "      </script>\n",
              "    </div>\n",
              "  </div>\n",
              "  "
            ]
          },
          "metadata": {},
          "execution_count": 285
        }
      ]
    },
    {
      "cell_type": "code",
      "source": [
        "pca = sklearnPCA(n_components=2) #2-dimensional PCA\n",
        "transformed = pd.DataFrame(pca.fit_transform(x_1))"
      ],
      "metadata": {
        "id": "_cEPTdfGTg58"
      },
      "execution_count": 350,
      "outputs": []
    },
    {
      "cell_type": "code",
      "source": [
        "# Visualize PCA results\n",
        "plt.scatter(transformed[y_1==1][0], transformed[y_1==1][1], label='WIN', c='red')\n",
        "plt.scatter(transformed[y_1==0][0], transformed[y_1==0][1], label='LOSS', c='blue')\n",
        "\n",
        "plt.legend()\n",
        "plt.show()"
      ],
      "metadata": {
        "colab": {
          "base_uri": "https://localhost:8080/",
          "height": 269
        },
        "id": "JHgvwS3HTg85",
        "outputId": "d9f6c07d-c0f7-438c-a16d-ca7801b90561"
      },
      "execution_count": 351,
      "outputs": [
        {
          "output_type": "display_data",
          "data": {
            "text/plain": [
              "<Figure size 432x288 with 1 Axes>"
            ],
            "image/png": "[encoded data removed]"
          },
          "metadata": {
            "needs_background": "light"
          }
        }
      ]
    },
    {
      "cell_type": "markdown",
      "source": [
        "Logistic Regression"
      ],
      "metadata": {
        "id": "wcJDlxnVJrs5"
      }
    },
    {
      "cell_type": "code",
      "source": [
        "# split train and test by 4:1\n",
        "x_train, x_test, y_train, y_test = train_test_split(x_1,y_1,test_size=0.2)\n",
        "# x_train['Intercept'], x_test['Intercept'] = 1, 1 "
      ],
      "metadata": {
        "id": "mQMG9RR5fjT7"
      },
      "execution_count": 214,
      "outputs": []
    },
    {
      "cell_type": "code",
      "source": [
        "log_reg = sm.Logit(y_train, x_train).fit()"
      ],
      "metadata": {
        "id": "Ght66J7ImSoA",
        "colab": {
          "base_uri": "https://localhost:8080/"
        },
        "outputId": "4c33ebed-b6b6-49e5-f0f4-ec9b427c10aa"
      },
      "execution_count": 215,
      "outputs": [
        {
          "output_type": "stream",
          "name": "stdout",
          "text": [
            "Optimization terminated successfully.\n",
            "         Current function value: inf\n",
            "         Iterations 8\n"
          ]
        },
        {
          "output_type": "stream",
          "name": "stderr",
          "text": [
            "/usr/local/lib/python3.8/dist-packages/statsmodels/discrete/discrete_model.py:1810: RuntimeWarning: overflow encountered in exp\n",
            "  return 1/(1+np.exp(-X))\n",
            "/usr/local/lib/python3.8/dist-packages/statsmodels/discrete/discrete_model.py:1863: RuntimeWarning: divide by zero encountered in log\n",
            "  return np.sum(np.log(self.cdf(q*np.dot(X,params))))\n"
          ]
        }
      ]
    },
    {
      "cell_type": "code",
      "source": [
        "accuracy_score(y_test, list(map(round, log_reg.predict(x_test))))"
      ],
      "metadata": {
        "colab": {
          "base_uri": "https://localhost:8080/"
        },
        "id": "8dGT6muhmS04",
        "outputId": "c4da056e-8eb0-4a66-ed6b-ca26db5a62db"
      },
      "execution_count": 216,
      "outputs": [
        {
          "output_type": "execute_result",
          "data": {
            "text/plain": [
              "0.825"
            ]
          },
          "metadata": {},
          "execution_count": 216
        }
      ]
    },
    {
      "cell_type": "code",
      "source": [
        "# run 10 batches"
      ],
      "metadata": {
        "id": "FRQ9Sykygj_r"
      },
      "execution_count": null,
      "outputs": []
    },
    {
      "cell_type": "code",
      "source": [
        "print(log_reg.summary())"
      ],
      "metadata": {
        "id": "6J7YFFUvmS3V"
      },
      "execution_count": null,
      "outputs": []
    },
    {
      "cell_type": "markdown",
      "source": [
        "Polynomial Logistic"
      ],
      "metadata": {
        "id": "E4Zf-qJGf6RG"
      }
    },
    {
      "cell_type": "code",
      "source": [
        "poly = PolynomialFeatures(degree = 2, interaction_only=False, include_bias = True)\n",
        "x_poly = poly.fit_transform(x_train.loc[:,x_train.columns != 'Intercept'])\n",
        "x_poly.shape"
      ],
      "metadata": {
        "colab": {
          "base_uri": "https://localhost:8080/",
          "height": 0
        },
        "id": "gN7Q3_lsf9DY",
        "outputId": "3043945f-81e5-47b3-a674-ed45734fc2ff"
      },
      "execution_count": 373,
      "outputs": [
        {
          "output_type": "execute_result",
          "data": {
            "text/plain": [
              "(800, 120)"
            ]
          },
          "metadata": {},
          "execution_count": 373
        }
      ]
    },
    {
      "cell_type": "code",
      "source": [
        "log_reg_poly = sm.Logit(y_train, x_poly).fit()"
      ],
      "metadata": {
        "colab": {
          "base_uri": "https://localhost:8080/",
          "height": 0
        },
        "id": "KdIBsYEZgTm3",
        "outputId": "7e78263a-40db-4391-acc2-7164a2ce55ed"
      },
      "execution_count": 374,
      "outputs": [
        {
          "output_type": "stream",
          "name": "stdout",
          "text": [
            "Optimization terminated successfully.\n",
            "         Current function value: inf\n",
            "         Iterations 9\n"
          ]
        },
        {
          "output_type": "stream",
          "name": "stderr",
          "text": [
            "/usr/local/lib/python3.8/dist-packages/statsmodels/discrete/discrete_model.py:1810: RuntimeWarning: overflow encountered in exp\n",
            "  return 1/(1+np.exp(-X))\n",
            "/usr/local/lib/python3.8/dist-packages/statsmodels/discrete/discrete_model.py:1863: RuntimeWarning: divide by zero encountered in log\n",
            "  return np.sum(np.log(self.cdf(q*np.dot(X,params))))\n"
          ]
        }
      ]
    },
    {
      "cell_type": "code",
      "source": [
        "print(log_reg_poly.summary())"
      ],
      "metadata": {
        "id": "53TPVoLShAd3"
      },
      "execution_count": null,
      "outputs": []
    },
    {
      "cell_type": "code",
      "source": [
        "accuracy_score(y_test, list(map(round, log_reg_poly.predict(poly.fit_transform(x_test.loc[:,x_train.columns != 'Intercept'])))))"
      ],
      "metadata": {
        "colab": {
          "base_uri": "https://localhost:8080/",
          "height": 0
        },
        "id": "XvGPau6thAgT",
        "outputId": "bd925702-da6a-45de-9e16-dc940177b36b"
      },
      "execution_count": 376,
      "outputs": [
        {
          "output_type": "execute_result",
          "data": {
            "text/plain": [
              "0.82"
            ]
          },
          "metadata": {},
          "execution_count": 376
        }
      ]
    },
    {
      "cell_type": "code",
      "source": [
        "# run 10 batches"
      ],
      "metadata": {
        "id": "CFqTAmfDghgw"
      },
      "execution_count": null,
      "outputs": []
    },
    {
      "cell_type": "markdown",
      "source": [
        "Advanced Statistics"
      ],
      "metadata": {
        "id": "wAbgQa3xClEM"
      }
    },
    {
      "cell_type": "code",
      "source": [
        "dfa = pd.read_csv('/content/sample_data/advanced_box_score_2023.csv', encoding='latin-1')\n",
        "dfa['W/L'] = pd.get_dummies(dfa['W/L'])['W']\n",
        "dfa_1 = dfa.loc[:,~dfa.columns.isin(['TEAM','MATCH_UP','GAME_DATE','MIN','OFFRTG','DEFRTG','NETRTG','PIE'])]\n",
        "dfa_1 = dfa_1.dropna()\n",
        "\n",
        "xa_1 = dfa_1.loc[:,dfa_1.columns != 'W/L'].reset_index(drop = True) \n",
        "xa_n = (xa_1 - xa_1.mean()) / (xa_1.max() - xa_1.min())\n",
        "xa_1[xa_n.columns] = xa_n\n",
        "ya_1 = dfa_1.loc[:,dfa_1.columns == 'W/L'].reset_index(drop = True)\n",
        "ya_1 = ya_1['W/L']"
      ],
      "metadata": {
        "id": "owDBVgCzClOw"
      },
      "execution_count": 224,
      "outputs": []
    },
    {
      "cell_type": "code",
      "source": [
        "dfa.head(5)"
      ],
      "metadata": {
        "id": "VYw1Lu_yClQ-",
        "colab": {
          "base_uri": "https://localhost:8080/",
          "height": 250
        },
        "outputId": "b92fe222-cd7e-474b-92df-97e29df0b73a"
      },
      "execution_count": 286,
      "outputs": [
        {
          "output_type": "execute_result",
          "data": {
            "text/plain": [
              "  TEAM     MATCH_UP  GAME_DATE  W/L   MIN  OFFRTG  DEFRTG  NETRTG  AST%  \\\n",
              "0  DAL    DAL @ DEN  12/6/2022    1  48.0   118.4   117.3     1.0  75.0   \n",
              "1  DEN  DEN vs. DAL  12/6/2022    0  48.0   117.3   118.4    -1.0  75.0   \n",
              "2  CLE  CLE vs. LAL  12/6/2022    1  48.0   117.2   103.0    14.1  52.1   \n",
              "3  MIA  MIA vs. DET  12/6/2022    0  48.0   100.0   122.1   -22.1  63.6   \n",
              "4  LAL    LAL @ CLE  12/6/2022    0  48.0   103.0   117.2   -14.1  42.1   \n",
              "\n",
              "   AST/TO  ASTRAT  OREB%  DREB%  REB%  TOV%  EFG%   TS%  PACE   PIE  \n",
              "0    1.59    20.5   18.4   76.2  48.8  17.3  61.8  67.7  98.0  50.3  \n",
              "1    1.76    22.1   23.8   81.6  51.3  17.3  59.6  63.7  98.0  49.7  \n",
              "2    3.13    18.5   26.7   68.5  49.5   8.1  55.4  57.7  99.0  60.1  \n",
              "3    1.40    16.4   23.9   73.9  48.9  15.6  49.4  54.3  95.5  41.7  \n",
              "4    1.00    12.1   31.5   73.3  50.5  16.2  46.1  51.2  99.0  39.9  "
            ],
            "text/html": [
              "\n",
              "  <div id=\"df-49d6172f-2ed3-4ba2-87c1-fc9eba5e56c0\">\n",
              "    <div class=\"colab-df-container\">\n",
              "      <div>\n",
              "<style scoped>\n",
              "    .dataframe tbody tr th:only-of-type {\n",
              "        vertical-align: middle;\n",
              "    }\n",
              "\n",
              "    .dataframe tbody tr th {\n",
              "        vertical-align: top;\n",
              "    }\n",
              "\n",
              "    .dataframe thead th {\n",
              "        text-align: right;\n",
              "    }\n",
              "</style>\n",
              "<table border=\"1\" class=\"dataframe\">\n",
              "  <thead>\n",
              "    <tr style=\"text-align: right;\">\n",
              "      <th></th>\n",
              "      <th>TEAM</th>\n",
              "      <th>MATCH_UP</th>\n",
              "      <th>GAME_DATE</th>\n",
              "      <th>W/L</th>\n",
              "      <th>MIN</th>\n",
              "      <th>OFFRTG</th>\n",
              "      <th>DEFRTG</th>\n",
              "      <th>NETRTG</th>\n",
              "      <th>AST%</th>\n",
              "      <th>AST/TO</th>\n",
              "      <th>ASTRAT</th>\n",
              "      <th>OREB%</th>\n",
              "      <th>DREB%</th>\n",
              "      <th>REB%</th>\n",
              "      <th>TOV%</th>\n",
              "      <th>EFG%</th>\n",
              "      <th>TS%</th>\n",
              "      <th>PACE</th>\n",
              "      <th>PIE</th>\n",
              "    </tr>\n",
              "  </thead>\n",
              "  <tbody>\n",
              "    <tr>\n",
              "      <th>0</th>\n",
              "      <td>DAL</td>\n",
              "      <td>DAL @ DEN</td>\n",
              "      <td>12/6/2022</td>\n",
              "      <td>1</td>\n",
              "      <td>48.0</td>\n",
              "      <td>118.4</td>\n",
              "      <td>117.3</td>\n",
              "      <td>1.0</td>\n",
              "      <td>75.0</td>\n",
              "      <td>1.59</td>\n",
              "      <td>20.5</td>\n",
              "      <td>18.4</td>\n",
              "      <td>76.2</td>\n",
              "      <td>48.8</td>\n",
              "      <td>17.3</td>\n",
              "      <td>61.8</td>\n",
              "      <td>67.7</td>\n",
              "      <td>98.0</td>\n",
              "      <td>50.3</td>\n",
              "    </tr>\n",
              "    <tr>\n",
              "      <th>1</th>\n",
              "      <td>DEN</td>\n",
              "      <td>DEN vs. DAL</td>\n",
              "      <td>12/6/2022</td>\n",
              "      <td>0</td>\n",
              "      <td>48.0</td>\n",
              "      <td>117.3</td>\n",
              "      <td>118.4</td>\n",
              "      <td>-1.0</td>\n",
              "      <td>75.0</td>\n",
              "      <td>1.76</td>\n",
              "      <td>22.1</td>\n",
              "      <td>23.8</td>\n",
              "      <td>81.6</td>\n",
              "      <td>51.3</td>\n",
              "      <td>17.3</td>\n",
              "      <td>59.6</td>\n",
              "      <td>63.7</td>\n",
              "      <td>98.0</td>\n",
              "      <td>49.7</td>\n",
              "    </tr>\n",
              "    <tr>\n",
              "      <th>2</th>\n",
              "      <td>CLE</td>\n",
              "      <td>CLE vs. LAL</td>\n",
              "      <td>12/6/2022</td>\n",
              "      <td>1</td>\n",
              "      <td>48.0</td>\n",
              "      <td>117.2</td>\n",
              "      <td>103.0</td>\n",
              "      <td>14.1</td>\n",
              "      <td>52.1</td>\n",
              "      <td>3.13</td>\n",
              "      <td>18.5</td>\n",
              "      <td>26.7</td>\n",
              "      <td>68.5</td>\n",
              "      <td>49.5</td>\n",
              "      <td>8.1</td>\n",
              "      <td>55.4</td>\n",
              "      <td>57.7</td>\n",
              "      <td>99.0</td>\n",
              "      <td>60.1</td>\n",
              "    </tr>\n",
              "    <tr>\n",
              "      <th>3</th>\n",
              "      <td>MIA</td>\n",
              "      <td>MIA vs. DET</td>\n",
              "      <td>12/6/2022</td>\n",
              "      <td>0</td>\n",
              "      <td>48.0</td>\n",
              "      <td>100.0</td>\n",
              "      <td>122.1</td>\n",
              "      <td>-22.1</td>\n",
              "      <td>63.6</td>\n",
              "      <td>1.40</td>\n",
              "      <td>16.4</td>\n",
              "      <td>23.9</td>\n",
              "      <td>73.9</td>\n",
              "      <td>48.9</td>\n",
              "      <td>15.6</td>\n",
              "      <td>49.4</td>\n",
              "      <td>54.3</td>\n",
              "      <td>95.5</td>\n",
              "      <td>41.7</td>\n",
              "    </tr>\n",
              "    <tr>\n",
              "      <th>4</th>\n",
              "      <td>LAL</td>\n",
              "      <td>LAL @ CLE</td>\n",
              "      <td>12/6/2022</td>\n",
              "      <td>0</td>\n",
              "      <td>48.0</td>\n",
              "      <td>103.0</td>\n",
              "      <td>117.2</td>\n",
              "      <td>-14.1</td>\n",
              "      <td>42.1</td>\n",
              "      <td>1.00</td>\n",
              "      <td>12.1</td>\n",
              "      <td>31.5</td>\n",
              "      <td>73.3</td>\n",
              "      <td>50.5</td>\n",
              "      <td>16.2</td>\n",
              "      <td>46.1</td>\n",
              "      <td>51.2</td>\n",
              "      <td>99.0</td>\n",
              "      <td>39.9</td>\n",
              "    </tr>\n",
              "  </tbody>\n",
              "</table>\n",
              "</div>\n",
              "      <button class=\"colab-df-convert\" onclick=\"convertToInteractive('df-49d6172f-2ed3-4ba2-87c1-fc9eba5e56c0')\"\n",
              "              title=\"Convert this dataframe to an interactive table.\"\n",
              "              style=\"display:none;\">\n",
              "        \n",
              "  <svg xmlns=\"http://www.w3.org/2000/svg\" height=\"24px\"viewBox=\"0 0 24 24\"\n",
              "       width=\"24px\">\n",
              "    <path d=\"M0 0h24v24H0V0z\" fill=\"none\"/>\n",
              "    <path d=\"M18.56 5.44l.94 2.06.94-2.06 2.06-.94-2.06-.94-.94-2.06-.94 2.06-2.06.94zm-11 1L8.5 8.5l.94-2.06 2.06-.94-2.06-.94L8.5 2.5l-.94 2.06-2.06.94zm10 10l.94 2.06.94-2.06 2.06-.94-2.06-.94-.94-2.06-.94 2.06-2.06.94z\"/><path d=\"M17.41 7.96l-1.37-1.37c-.4-.4-.92-.59-1.43-.59-.52 0-1.04.2-1.43.59L10.3 9.45l-7.72 7.72c-.78.78-.78 2.05 0 2.83L4 21.41c.39.39.9.59 1.41.59.51 0 1.02-.2 1.41-.59l7.78-7.78 2.81-2.81c.8-.78.8-2.07 0-2.86zM5.41 20L4 18.59l7.72-7.72 1.47 1.35L5.41 20z\"/>\n",
              "  </svg>\n",
              "      </button>\n",
              "      \n",
              "  <style>\n",
              "    .colab-df-container {\n",
              "      display:flex;\n",
              "      flex-wrap:wrap;\n",
              "      gap: 12px;\n",
              "    }\n",
              "\n",
              "    .colab-df-convert {\n",
              "      background-color: #E8F0FE;\n",
              "      border: none;\n",
              "      border-radius: 50%;\n",
              "      cursor: pointer;\n",
              "      display: none;\n",
              "      fill: #1967D2;\n",
              "      height: 32px;\n",
              "      padding: 0 0 0 0;\n",
              "      width: 32px;\n",
              "    }\n",
              "\n",
              "    .colab-df-convert:hover {\n",
              "      background-color: #E2EBFA;\n",
              "      box-shadow: 0px 1px 2px rgba(60, 64, 67, 0.3), 0px 1px 3px 1px rgba(60, 64, 67, 0.15);\n",
              "      fill: #174EA6;\n",
              "    }\n",
              "\n",
              "    [theme=dark] .colab-df-convert {\n",
              "      background-color: #3B4455;\n",
              "      fill: #D2E3FC;\n",
              "    }\n",
              "\n",
              "    [theme=dark] .colab-df-convert:hover {\n",
              "      background-color: #434B5C;\n",
              "      box-shadow: 0px 1px 3px 1px rgba(0, 0, 0, 0.15);\n",
              "      filter: drop-shadow(0px 1px 2px rgba(0, 0, 0, 0.3));\n",
              "      fill: #FFFFFF;\n",
              "    }\n",
              "  </style>\n",
              "\n",
              "      <script>\n",
              "        const buttonEl =\n",
              "          document.querySelector('#df-49d6172f-2ed3-4ba2-87c1-fc9eba5e56c0 button.colab-df-convert');\n",
              "        buttonEl.style.display =\n",
              "          google.colab.kernel.accessAllowed ? 'block' : 'none';\n",
              "\n",
              "        async function convertToInteractive(key) {\n",
              "          const element = document.querySelector('#df-49d6172f-2ed3-4ba2-87c1-fc9eba5e56c0');\n",
              "          const dataTable =\n",
              "            await google.colab.kernel.invokeFunction('convertToInteractive',\n",
              "                                                     [key], {});\n",
              "          if (!dataTable) return;\n",
              "\n",
              "          const docLinkHtml = 'Like what you see? Visit the ' +\n",
              "            '<a target=\"_blank\" href=https://colab.research.google.com/notebooks/data_table.ipynb>data table notebook</a>'\n",
              "            + ' to learn more about interactive tables.';\n",
              "          element.innerHTML = '';\n",
              "          dataTable['output_type'] = 'display_data';\n",
              "          await google.colab.output.renderOutput(dataTable, element);\n",
              "          const docLink = document.createElement('div');\n",
              "          docLink.innerHTML = docLinkHtml;\n",
              "          element.appendChild(docLink);\n",
              "        }\n",
              "      </script>\n",
              "    </div>\n",
              "  </div>\n",
              "  "
            ]
          },
          "metadata": {},
          "execution_count": 286
        }
      ]
    },
    {
      "cell_type": "code",
      "source": [
        "# split train and test by 4:1\n",
        "xa_train, xa_test, ya_train, ya_test = train_test_split(xa_1,ya_1,test_size=0.2)"
      ],
      "metadata": {
        "id": "SwlexKA6B2es"
      },
      "execution_count": 225,
      "outputs": []
    },
    {
      "cell_type": "code",
      "source": [
        "xa_train['Intercept'] = 1\n",
        "xa_test['Intercept'] = 1"
      ],
      "metadata": {
        "id": "OTE9nqE4Zc99"
      },
      "execution_count": 282,
      "outputs": []
    },
    {
      "cell_type": "code",
      "source": [
        "log_reg_a = sm.Logit(ya_train, xa_train.astype(float)).fit()\n",
        "print(log_reg_a.summary())"
      ],
      "metadata": {
        "colab": {
          "base_uri": "https://localhost:8080/",
          "height": 0
        },
        "id": "PN1PKmoIB2hS",
        "outputId": "613dccdb-9703-47b4-d508-727b53a77f09"
      },
      "execution_count": 283,
      "outputs": [
        {
          "output_type": "stream",
          "name": "stdout",
          "text": [
            "Optimization terminated successfully.\n",
            "         Current function value: inf\n",
            "         Iterations 7\n",
            "                           Logit Regression Results                           \n",
            "==============================================================================\n",
            "Dep. Variable:                    W/L   No. Observations:                 2570\n",
            "Model:                          Logit   Df Residuals:                     2559\n",
            "Method:                           MLE   Df Model:                           10\n",
            "Date:                Fri, 09 Dec 2022   Pseudo R-squ.:                     inf\n",
            "Time:                        09:25:12   Log-Likelihood:                   -inf\n",
            "converged:                       True   LL-Null:                        0.0000\n",
            "Covariance Type:            nonrobust   LLR p-value:                     1.000\n",
            "==============================================================================\n",
            "                 coef    std err          z      P>|z|      [0.025      0.975]\n",
            "------------------------------------------------------------------------------\n",
            "AST%           3.2346      1.218      2.656      0.008       0.848       5.622\n",
            "AST/TO         2.3960      1.731      1.384      0.166      -0.996       5.788\n",
            "ASTRAT        -3.5173      1.824     -1.929      0.054      -7.091       0.057\n",
            "OREB%        -17.2700      1.045    -16.530      0.000     -19.318     -15.222\n",
            "DREB%        -18.9845      1.086    -17.486      0.000     -21.112     -16.857\n",
            "REB%          36.4199      1.771     20.565      0.000      32.949      39.891\n",
            "TOV%          -8.3699      0.910     -9.195      0.000     -10.154      -6.586\n",
            "EFG%           3.7393      2.422      1.544      0.123      -1.007       8.486\n",
            "TS%            3.2119      1.817      1.767      0.077      -0.350       6.774\n",
            "PACE           0.9482      0.412      2.299      0.022       0.140       1.756\n",
            "Intercept     -0.0262      0.058     -0.454      0.650      -0.139       0.087\n",
            "==============================================================================\n"
          ]
        },
        {
          "output_type": "stream",
          "name": "stderr",
          "text": [
            "/usr/local/lib/python3.8/dist-packages/statsmodels/discrete/discrete_model.py:1810: RuntimeWarning: overflow encountered in exp\n",
            "  return 1/(1+np.exp(-X))\n",
            "/usr/local/lib/python3.8/dist-packages/statsmodels/discrete/discrete_model.py:1863: RuntimeWarning: divide by zero encountered in log\n",
            "  return np.sum(np.log(self.cdf(q*np.dot(X,params))))\n",
            "/usr/local/lib/python3.8/dist-packages/statsmodels/base/model.py:547: HessianInversionWarning: Inverting hessian failed, no bse or cov_params available\n",
            "  warnings.warn('Inverting hessian failed, no bse or cov_params '\n",
            "/usr/local/lib/python3.8/dist-packages/statsmodels/base/model.py:547: HessianInversionWarning: Inverting hessian failed, no bse or cov_params available\n",
            "  warnings.warn('Inverting hessian failed, no bse or cov_params '\n"
          ]
        }
      ]
    },
    {
      "cell_type": "code",
      "source": [
        "accuracy_score(ya_test, list(map(round, log_reg_a.predict(xa_test))))"
      ],
      "metadata": {
        "colab": {
          "base_uri": "https://localhost:8080/",
          "height": 0
        },
        "id": "hSZ9rZRSB2jv",
        "outputId": "f4ef781f-5752-49cd-b269-3cbdd3a507bd"
      },
      "execution_count": 284,
      "outputs": [
        {
          "output_type": "execute_result",
          "data": {
            "text/plain": [
              "0.8087091757387247"
            ]
          },
          "metadata": {},
          "execution_count": 284
        }
      ]
    },
    {
      "cell_type": "code",
      "source": [
        "# run 10 batches\n"
      ],
      "metadata": {
        "id": "pB707sEVB2mO"
      },
      "execution_count": null,
      "outputs": []
    },
    {
      "cell_type": "markdown",
      "source": [
        "Four Factors"
      ],
      "metadata": {
        "id": "4CgrEPGRYO-3"
      }
    },
    {
      "cell_type": "code",
      "source": [
        "df40 = pd.read_csv('/content/sample_data/four_factors.csv')\n",
        "df40 = df40.dropna()\n",
        "df40 = df40.rename(columns = {'DATE':'GAME_DATE'})\n",
        "df4 = df40.loc[:,~df40.columns.isin(['TEAM','MATCH','GAME','GAME_DATE','MIN'])]\n",
        "df4.columns = ['HOME',\t'W_L',\t'EFG',\t'FTR',\t'TOV',\t'OREB',\t'OPPEFG',\t'OPPFTR',\t'OPPTOV',\t'OPPOREB']\n",
        "df4['W_L'] = pd.get_dummies(df4['W_L'])['W']\n",
        "df4['HOME'] = pd.get_dummies(df4['HOME'])['vs.']"
      ],
      "metadata": {
        "id": "sDFoVFBwYQet",
        "colab": {
          "base_uri": "https://localhost:8080/",
          "height": 0
        },
        "outputId": "8b9d88ac-b4ca-4f99-e909-852996f515a7"
      },
      "execution_count": 42,
      "outputs": [
        {
          "output_type": "stream",
          "name": "stderr",
          "text": [
            "<ipython-input-42-75b51c4218a8>:6: SettingWithCopyWarning: \n",
            "A value is trying to be set on a copy of a slice from a DataFrame.\n",
            "Try using .loc[row_indexer,col_indexer] = value instead\n",
            "\n",
            "See the caveats in the documentation: https://pandas.pydata.org/pandas-docs/stable/user_guide/indexing.html#returning-a-view-versus-a-copy\n",
            "  df4['W_L'] = pd.get_dummies(df4['W_L'])['W']\n",
            "<ipython-input-42-75b51c4218a8>:7: SettingWithCopyWarning: \n",
            "A value is trying to be set on a copy of a slice from a DataFrame.\n",
            "Try using .loc[row_indexer,col_indexer] = value instead\n",
            "\n",
            "See the caveats in the documentation: https://pandas.pydata.org/pandas-docs/stable/user_guide/indexing.html#returning-a-view-versus-a-copy\n",
            "  df4['HOME'] = pd.get_dummies(df4['HOME'])['vs.']\n"
          ]
        }
      ]
    },
    {
      "cell_type": "code",
      "source": [],
      "metadata": {
        "id": "xIQPIYBV0Dbj"
      },
      "execution_count": null,
      "outputs": []
    },
    {
      "cell_type": "code",
      "source": [
        "df4.head(5)"
      ],
      "metadata": {
        "id": "NvKXAyVYYQhS"
      },
      "execution_count": null,
      "outputs": []
    },
    {
      "cell_type": "code",
      "source": [
        "x4 = df4.loc[:,df4.columns != 'W_L'].reset_index(drop = True) \n",
        "x4_n = (x4 - x4.mean()) / (x4.max() - x4.min())\n",
        "x4[x4_n.columns] = x4_n\n",
        "\n",
        "y4 = df4.loc[:,df4.columns == 'W_L'].reset_index(drop = True)\n",
        "# split train and test by 4:1\n",
        "x4_train, x4_test, y4_train, y4_test = train_test_split(x4,y4,test_size=0.2)"
      ],
      "metadata": {
        "id": "NYUXAcPVh9-A"
      },
      "execution_count": 230,
      "outputs": []
    },
    {
      "cell_type": "code",
      "source": [
        "log_reg_4_1 = smf.logit(formula=\"W_L ~ EFG\t+ FTR + TOV\t+ OREB + OPPEFG + OPPFTR + OPPTOV + OPPOREB + C(HOME)\", data=pd.concat([y4_train,x4_train], axis=1)).fit()\n",
        "print(log_reg_4_1.summary())"
      ],
      "metadata": {
        "id": "w08XhyhxNCUj"
      },
      "execution_count": null,
      "outputs": []
    },
    {
      "cell_type": "code",
      "source": [
        "accuracy_score(y4_train, list(map(round, log_reg_4_1.predict(x4_train))))"
      ],
      "metadata": {
        "colab": {
          "base_uri": "https://localhost:8080/",
          "height": 0
        },
        "id": "nv-auOtShjR7",
        "outputId": "7378f792-72a2-44d0-c1d2-12c05b766547"
      },
      "execution_count": 289,
      "outputs": [
        {
          "output_type": "execute_result",
          "data": {
            "text/plain": [
              "0.9434477379095164"
            ]
          },
          "metadata": {},
          "execution_count": 289
        }
      ]
    },
    {
      "cell_type": "code",
      "source": [
        "mean4 = []\n",
        "for i in range(10):\n",
        "  batch = df4.sample(1000)\n",
        "\n",
        "  x4b = batch.loc[:,batch.columns != 'W_L'].reset_index(drop = True) \n",
        "  x4_nb = (x4b - x4b.mean()) / (x4b.max() - x4b.min())\n",
        "  x4b[x4_nb.columns] = x4_nb\n",
        "\n",
        "  y4b = batch.loc[:,batch.columns == 'W_L'].reset_index(drop = True)\n",
        "  # split train and test by 4:1\n",
        "  x4b_train, x4b_test, y4b_train, y4b_test = train_test_split(x4b,y4b,test_size=0.2)\n",
        "\n",
        "  log_reg_4_b = smf.logit(formula=\"W_L ~ EFG\t+ FTR + TOV\t+ OREB + OPPEFG + OPPFTR + OPPTOV + OPPOREB + C(HOME)\", data=pd.concat([y4b_train,x4b_train], axis=1)).fit()\n",
        "  \n",
        "  mean4.append(accuracy_score(y4b_train, list(map(round, log_reg_4_b.predict(x4b_train)))))\n"
      ],
      "metadata": {
        "id": "FyTEdq8yYQl_"
      },
      "execution_count": null,
      "outputs": []
    },
    {
      "cell_type": "code",
      "source": [
        "mean4"
      ],
      "metadata": {
        "id": "FA4aHkvBYQoP"
      },
      "execution_count": null,
      "outputs": []
    },
    {
      "cell_type": "code",
      "source": [],
      "metadata": {
        "id": "2ovQr6k2YQqZ",
        "colab": {
          "base_uri": "https://localhost:8080/",
          "height": 0
        },
        "outputId": "f4bfbb43-c788-4a29-f5cb-eaeca3e4217a"
      },
      "execution_count": 293,
      "outputs": [
        {
          "output_type": "execute_result",
          "data": {
            "text/plain": [
              "3206"
            ]
          },
          "metadata": {},
          "execution_count": 293
        }
      ]
    },
    {
      "cell_type": "markdown",
      "source": [
        "Quantile Regression"
      ],
      "metadata": {
        "id": "EtUolpWgqT6m"
      }
    },
    {
      "cell_type": "code",
      "source": [
        "\n",
        " \n",
        "# fit the model\n",
        "model = smf.quantreg('Emission ~ Distance',\n",
        "                     df).fit(q=0.7)\n",
        " \n",
        "# view model summary\n"
      ],
      "metadata": {
        "id": "SUTw_GdIp7KM"
      },
      "execution_count": null,
      "outputs": []
    },
    {
      "cell_type": "code",
      "source": [
        "df_p0"
      ],
      "metadata": {
        "id": "VBmpobyNp7L2",
        "colab": {
          "base_uri": "https://localhost:8080/",
          "height": 424
        },
        "outputId": "8a3cc6cc-7fee-4d90-a578-3c6c98744f14"
      },
      "execution_count": 181,
      "outputs": [
        {
          "output_type": "execute_result",
          "data": {
            "text/plain": [
              "     TEAM     MATCH_UP  GAME_DATE W_L  MIN  PTS  FGM  FGA    FG  TPM  ...  \\\n",
              "0     LAC    LAC @ MIA  12/8/2022   L   48  110   37   80  46.3   17  ...   \n",
              "1     SAS  SAS vs. HOU  12/8/2022   W   48  118   46   83  55.4   13  ...   \n",
              "2     POR  POR vs. DEN  12/8/2022   L   48  120   44   91  48.4   16  ...   \n",
              "3     DEN    DEN @ POR  12/8/2022   W   48  121   47   91  51.6   12  ...   \n",
              "4     HOU    HOU @ SAS  12/8/2022   L   48  109   44   98  44.9   10  ...   \n",
              "...   ...          ...        ...  ..  ...  ...  ...  ...   ...  ...  ...   \n",
              "3207  SAS    SAS @ DET   1/1/2022   L   53  116   42  102  41.2   12  ...   \n",
              "3208  UTA  UTA vs. GSW   1/1/2022   L   48  116   40   92  43.5   14  ...   \n",
              "3209  CHI    CHI @ WAS   1/1/2022   W   48  120   41   84  48.8   17  ...   \n",
              "3210  HOU  HOU vs. DEN   1/1/2022   L   48  111   37   85  43.5   16  ...   \n",
              "3211  DET  DET vs. SAS   1/1/2022   W   53  117   41  101  40.6    9  ...   \n",
              "\n",
              "      DREB  REB  AST  TOV  STL  BLK  PF  PD  AWAYPTS       PWP  \n",
              "0       36   43   24   16    3    3  16  -5      115  0.324437  \n",
              "1       31   38   25   17    5    7  19   9      109  0.787355  \n",
              "2       25   38   30   13   10    3  20  -1      121  0.465821  \n",
              "3       32   48   28   16    6    5  16   1      120  0.534179  \n",
              "4       26   42   23   14    3    4  19  -9      118  0.212645  \n",
              "...    ...  ...  ...  ...  ...  ...  ..  ..      ...       ...  \n",
              "3207    35   48   30   17    8    3  27  -1      117  0.464651  \n",
              "3208    30   45   19   13    7    0  21  -7      123  0.275518  \n",
              "3209    38   44   17   15    4    4  24   1      119  0.534464  \n",
              "3210    23   36   20   18   10    4  24 -13      124  0.138549  \n",
              "3211    41   63   18   21   12    6  23   1      116  0.535349  \n",
              "\n",
              "[3212 rows x 26 columns]"
            ],
            "text/html": [
              "\n",
              "  <div id=\"df-09804b82-c891-4d6f-be05-1ab564927ae6\">\n",
              "    <div class=\"colab-df-container\">\n",
              "      <div>\n",
              "<style scoped>\n",
              "    .dataframe tbody tr th:only-of-type {\n",
              "        vertical-align: middle;\n",
              "    }\n",
              "\n",
              "    .dataframe tbody tr th {\n",
              "        vertical-align: top;\n",
              "    }\n",
              "\n",
              "    .dataframe thead th {\n",
              "        text-align: right;\n",
              "    }\n",
              "</style>\n",
              "<table border=\"1\" class=\"dataframe\">\n",
              "  <thead>\n",
              "    <tr style=\"text-align: right;\">\n",
              "      <th></th>\n",
              "      <th>TEAM</th>\n",
              "      <th>MATCH_UP</th>\n",
              "      <th>GAME_DATE</th>\n",
              "      <th>W_L</th>\n",
              "      <th>MIN</th>\n",
              "      <th>PTS</th>\n",
              "      <th>FGM</th>\n",
              "      <th>FGA</th>\n",
              "      <th>FG</th>\n",
              "      <th>TPM</th>\n",
              "      <th>...</th>\n",
              "      <th>DREB</th>\n",
              "      <th>REB</th>\n",
              "      <th>AST</th>\n",
              "      <th>TOV</th>\n",
              "      <th>STL</th>\n",
              "      <th>BLK</th>\n",
              "      <th>PF</th>\n",
              "      <th>PD</th>\n",
              "      <th>AWAYPTS</th>\n",
              "      <th>PWP</th>\n",
              "    </tr>\n",
              "  </thead>\n",
              "  <tbody>\n",
              "    <tr>\n",
              "      <th>0</th>\n",
              "      <td>LAC</td>\n",
              "      <td>LAC @ MIA</td>\n",
              "      <td>12/8/2022</td>\n",
              "      <td>L</td>\n",
              "      <td>48</td>\n",
              "      <td>110</td>\n",
              "      <td>37</td>\n",
              "      <td>80</td>\n",
              "      <td>46.3</td>\n",
              "      <td>17</td>\n",
              "      <td>...</td>\n",
              "      <td>36</td>\n",
              "      <td>43</td>\n",
              "      <td>24</td>\n",
              "      <td>16</td>\n",
              "      <td>3</td>\n",
              "      <td>3</td>\n",
              "      <td>16</td>\n",
              "      <td>-5</td>\n",
              "      <td>115</td>\n",
              "      <td>0.324437</td>\n",
              "    </tr>\n",
              "    <tr>\n",
              "      <th>1</th>\n",
              "      <td>SAS</td>\n",
              "      <td>SAS vs. HOU</td>\n",
              "      <td>12/8/2022</td>\n",
              "      <td>W</td>\n",
              "      <td>48</td>\n",
              "      <td>118</td>\n",
              "      <td>46</td>\n",
              "      <td>83</td>\n",
              "      <td>55.4</td>\n",
              "      <td>13</td>\n",
              "      <td>...</td>\n",
              "      <td>31</td>\n",
              "      <td>38</td>\n",
              "      <td>25</td>\n",
              "      <td>17</td>\n",
              "      <td>5</td>\n",
              "      <td>7</td>\n",
              "      <td>19</td>\n",
              "      <td>9</td>\n",
              "      <td>109</td>\n",
              "      <td>0.787355</td>\n",
              "    </tr>\n",
              "    <tr>\n",
              "      <th>2</th>\n",
              "      <td>POR</td>\n",
              "      <td>POR vs. DEN</td>\n",
              "      <td>12/8/2022</td>\n",
              "      <td>L</td>\n",
              "      <td>48</td>\n",
              "      <td>120</td>\n",
              "      <td>44</td>\n",
              "      <td>91</td>\n",
              "      <td>48.4</td>\n",
              "      <td>16</td>\n",
              "      <td>...</td>\n",
              "      <td>25</td>\n",
              "      <td>38</td>\n",
              "      <td>30</td>\n",
              "      <td>13</td>\n",
              "      <td>10</td>\n",
              "      <td>3</td>\n",
              "      <td>20</td>\n",
              "      <td>-1</td>\n",
              "      <td>121</td>\n",
              "      <td>0.465821</td>\n",
              "    </tr>\n",
              "    <tr>\n",
              "      <th>3</th>\n",
              "      <td>DEN</td>\n",
              "      <td>DEN @ POR</td>\n",
              "      <td>12/8/2022</td>\n",
              "      <td>W</td>\n",
              "      <td>48</td>\n",
              "      <td>121</td>\n",
              "      <td>47</td>\n",
              "      <td>91</td>\n",
              "      <td>51.6</td>\n",
              "      <td>12</td>\n",
              "      <td>...</td>\n",
              "      <td>32</td>\n",
              "      <td>48</td>\n",
              "      <td>28</td>\n",
              "      <td>16</td>\n",
              "      <td>6</td>\n",
              "      <td>5</td>\n",
              "      <td>16</td>\n",
              "      <td>1</td>\n",
              "      <td>120</td>\n",
              "      <td>0.534179</td>\n",
              "    </tr>\n",
              "    <tr>\n",
              "      <th>4</th>\n",
              "      <td>HOU</td>\n",
              "      <td>HOU @ SAS</td>\n",
              "      <td>12/8/2022</td>\n",
              "      <td>L</td>\n",
              "      <td>48</td>\n",
              "      <td>109</td>\n",
              "      <td>44</td>\n",
              "      <td>98</td>\n",
              "      <td>44.9</td>\n",
              "      <td>10</td>\n",
              "      <td>...</td>\n",
              "      <td>26</td>\n",
              "      <td>42</td>\n",
              "      <td>23</td>\n",
              "      <td>14</td>\n",
              "      <td>3</td>\n",
              "      <td>4</td>\n",
              "      <td>19</td>\n",
              "      <td>-9</td>\n",
              "      <td>118</td>\n",
              "      <td>0.212645</td>\n",
              "    </tr>\n",
              "    <tr>\n",
              "      <th>...</th>\n",
              "      <td>...</td>\n",
              "      <td>...</td>\n",
              "      <td>...</td>\n",
              "      <td>...</td>\n",
              "      <td>...</td>\n",
              "      <td>...</td>\n",
              "      <td>...</td>\n",
              "      <td>...</td>\n",
              "      <td>...</td>\n",
              "      <td>...</td>\n",
              "      <td>...</td>\n",
              "      <td>...</td>\n",
              "      <td>...</td>\n",
              "      <td>...</td>\n",
              "      <td>...</td>\n",
              "      <td>...</td>\n",
              "      <td>...</td>\n",
              "      <td>...</td>\n",
              "      <td>...</td>\n",
              "      <td>...</td>\n",
              "      <td>...</td>\n",
              "    </tr>\n",
              "    <tr>\n",
              "      <th>3207</th>\n",
              "      <td>SAS</td>\n",
              "      <td>SAS @ DET</td>\n",
              "      <td>1/1/2022</td>\n",
              "      <td>L</td>\n",
              "      <td>53</td>\n",
              "      <td>116</td>\n",
              "      <td>42</td>\n",
              "      <td>102</td>\n",
              "      <td>41.2</td>\n",
              "      <td>12</td>\n",
              "      <td>...</td>\n",
              "      <td>35</td>\n",
              "      <td>48</td>\n",
              "      <td>30</td>\n",
              "      <td>17</td>\n",
              "      <td>8</td>\n",
              "      <td>3</td>\n",
              "      <td>27</td>\n",
              "      <td>-1</td>\n",
              "      <td>117</td>\n",
              "      <td>0.464651</td>\n",
              "    </tr>\n",
              "    <tr>\n",
              "      <th>3208</th>\n",
              "      <td>UTA</td>\n",
              "      <td>UTA vs. GSW</td>\n",
              "      <td>1/1/2022</td>\n",
              "      <td>L</td>\n",
              "      <td>48</td>\n",
              "      <td>116</td>\n",
              "      <td>40</td>\n",
              "      <td>92</td>\n",
              "      <td>43.5</td>\n",
              "      <td>14</td>\n",
              "      <td>...</td>\n",
              "      <td>30</td>\n",
              "      <td>45</td>\n",
              "      <td>19</td>\n",
              "      <td>13</td>\n",
              "      <td>7</td>\n",
              "      <td>0</td>\n",
              "      <td>21</td>\n",
              "      <td>-7</td>\n",
              "      <td>123</td>\n",
              "      <td>0.275518</td>\n",
              "    </tr>\n",
              "    <tr>\n",
              "      <th>3209</th>\n",
              "      <td>CHI</td>\n",
              "      <td>CHI @ WAS</td>\n",
              "      <td>1/1/2022</td>\n",
              "      <td>W</td>\n",
              "      <td>48</td>\n",
              "      <td>120</td>\n",
              "      <td>41</td>\n",
              "      <td>84</td>\n",
              "      <td>48.8</td>\n",
              "      <td>17</td>\n",
              "      <td>...</td>\n",
              "      <td>38</td>\n",
              "      <td>44</td>\n",
              "      <td>17</td>\n",
              "      <td>15</td>\n",
              "      <td>4</td>\n",
              "      <td>4</td>\n",
              "      <td>24</td>\n",
              "      <td>1</td>\n",
              "      <td>119</td>\n",
              "      <td>0.534464</td>\n",
              "    </tr>\n",
              "    <tr>\n",
              "      <th>3210</th>\n",
              "      <td>HOU</td>\n",
              "      <td>HOU vs. DEN</td>\n",
              "      <td>1/1/2022</td>\n",
              "      <td>L</td>\n",
              "      <td>48</td>\n",
              "      <td>111</td>\n",
              "      <td>37</td>\n",
              "      <td>85</td>\n",
              "      <td>43.5</td>\n",
              "      <td>16</td>\n",
              "      <td>...</td>\n",
              "      <td>23</td>\n",
              "      <td>36</td>\n",
              "      <td>20</td>\n",
              "      <td>18</td>\n",
              "      <td>10</td>\n",
              "      <td>4</td>\n",
              "      <td>24</td>\n",
              "      <td>-13</td>\n",
              "      <td>124</td>\n",
              "      <td>0.138549</td>\n",
              "    </tr>\n",
              "    <tr>\n",
              "      <th>3211</th>\n",
              "      <td>DET</td>\n",
              "      <td>DET vs. SAS</td>\n",
              "      <td>1/1/2022</td>\n",
              "      <td>W</td>\n",
              "      <td>53</td>\n",
              "      <td>117</td>\n",
              "      <td>41</td>\n",
              "      <td>101</td>\n",
              "      <td>40.6</td>\n",
              "      <td>9</td>\n",
              "      <td>...</td>\n",
              "      <td>41</td>\n",
              "      <td>63</td>\n",
              "      <td>18</td>\n",
              "      <td>21</td>\n",
              "      <td>12</td>\n",
              "      <td>6</td>\n",
              "      <td>23</td>\n",
              "      <td>1</td>\n",
              "      <td>116</td>\n",
              "      <td>0.535349</td>\n",
              "    </tr>\n",
              "  </tbody>\n",
              "</table>\n",
              "<p>3212 rows × 26 columns</p>\n",
              "</div>\n",
              "      <button class=\"colab-df-convert\" onclick=\"convertToInteractive('df-09804b82-c891-4d6f-be05-1ab564927ae6')\"\n",
              "              title=\"Convert this dataframe to an interactive table.\"\n",
              "              style=\"display:none;\">\n",
              "        \n",
              "  <svg xmlns=\"http://www.w3.org/2000/svg\" height=\"24px\"viewBox=\"0 0 24 24\"\n",
              "       width=\"24px\">\n",
              "    <path d=\"M0 0h24v24H0V0z\" fill=\"none\"/>\n",
              "    <path d=\"M18.56 5.44l.94 2.06.94-2.06 2.06-.94-2.06-.94-.94-2.06-.94 2.06-2.06.94zm-11 1L8.5 8.5l.94-2.06 2.06-.94-2.06-.94L8.5 2.5l-.94 2.06-2.06.94zm10 10l.94 2.06.94-2.06 2.06-.94-2.06-.94-.94-2.06-.94 2.06-2.06.94z\"/><path d=\"M17.41 7.96l-1.37-1.37c-.4-.4-.92-.59-1.43-.59-.52 0-1.04.2-1.43.59L10.3 9.45l-7.72 7.72c-.78.78-.78 2.05 0 2.83L4 21.41c.39.39.9.59 1.41.59.51 0 1.02-.2 1.41-.59l7.78-7.78 2.81-2.81c.8-.78.8-2.07 0-2.86zM5.41 20L4 18.59l7.72-7.72 1.47 1.35L5.41 20z\"/>\n",
              "  </svg>\n",
              "      </button>\n",
              "      \n",
              "  <style>\n",
              "    .colab-df-container {\n",
              "      display:flex;\n",
              "      flex-wrap:wrap;\n",
              "      gap: 12px;\n",
              "    }\n",
              "\n",
              "    .colab-df-convert {\n",
              "      background-color: #E8F0FE;\n",
              "      border: none;\n",
              "      border-radius: 50%;\n",
              "      cursor: pointer;\n",
              "      display: none;\n",
              "      fill: #1967D2;\n",
              "      height: 32px;\n",
              "      padding: 0 0 0 0;\n",
              "      width: 32px;\n",
              "    }\n",
              "\n",
              "    .colab-df-convert:hover {\n",
              "      background-color: #E2EBFA;\n",
              "      box-shadow: 0px 1px 2px rgba(60, 64, 67, 0.3), 0px 1px 3px 1px rgba(60, 64, 67, 0.15);\n",
              "      fill: #174EA6;\n",
              "    }\n",
              "\n",
              "    [theme=dark] .colab-df-convert {\n",
              "      background-color: #3B4455;\n",
              "      fill: #D2E3FC;\n",
              "    }\n",
              "\n",
              "    [theme=dark] .colab-df-convert:hover {\n",
              "      background-color: #434B5C;\n",
              "      box-shadow: 0px 1px 3px 1px rgba(0, 0, 0, 0.15);\n",
              "      filter: drop-shadow(0px 1px 2px rgba(0, 0, 0, 0.3));\n",
              "      fill: #FFFFFF;\n",
              "    }\n",
              "  </style>\n",
              "\n",
              "      <script>\n",
              "        const buttonEl =\n",
              "          document.querySelector('#df-09804b82-c891-4d6f-be05-1ab564927ae6 button.colab-df-convert');\n",
              "        buttonEl.style.display =\n",
              "          google.colab.kernel.accessAllowed ? 'block' : 'none';\n",
              "\n",
              "        async function convertToInteractive(key) {\n",
              "          const element = document.querySelector('#df-09804b82-c891-4d6f-be05-1ab564927ae6');\n",
              "          const dataTable =\n",
              "            await google.colab.kernel.invokeFunction('convertToInteractive',\n",
              "                                                     [key], {});\n",
              "          if (!dataTable) return;\n",
              "\n",
              "          const docLinkHtml = 'Like what you see? Visit the ' +\n",
              "            '<a target=\"_blank\" href=https://colab.research.google.com/notebooks/data_table.ipynb>data table notebook</a>'\n",
              "            + ' to learn more about interactive tables.';\n",
              "          element.innerHTML = '';\n",
              "          dataTable['output_type'] = 'display_data';\n",
              "          await google.colab.output.renderOutput(dataTable, element);\n",
              "          const docLink = document.createElement('div');\n",
              "          docLink.innerHTML = docLinkHtml;\n",
              "          element.appendChild(docLink);\n",
              "        }\n",
              "      </script>\n",
              "    </div>\n",
              "  </div>\n",
              "  "
            ]
          },
          "metadata": {},
          "execution_count": 181
        }
      ]
    },
    {
      "cell_type": "markdown",
      "source": [
        "Points Differential"
      ],
      "metadata": {
        "id": "AMEmAGmAiv4L"
      }
    },
    {
      "cell_type": "code",
      "source": [
        "df_p0 = pd.read_csv('/content/sample_data/box_score.csv')\n",
        "df_p0 = df_p0.dropna(axis=0)\n",
        "df_p0 = df_p0.rename(columns = {'DATE':'GAME_DATE'})\n",
        "df_p = df_p0.loc[:,~df_p0.columns.isin(['GAME_DATE', 'MATCH_UP', 'TEAM', 'MIN', 'REB', 'W_L'])]\n",
        "df_p = df_p[df_p['PD'] > 0]\n",
        "\n",
        "x_p = df_p.loc[:,df_p.columns != 'PD'].reset_index(drop = True) \n",
        "x_pnorm = (x_p - x_p.mean()) / (x_p.max() - x_p.min())\n",
        "x_p[x_pnorm.columns] = x_pnorm\n",
        "y_p = df_p.loc[:,df_p.columns == 'PD'].reset_index(drop = True)\n",
        "df_p[x_pnorm.columns] = x_pnorm"
      ],
      "metadata": {
        "id": "Ay7m7eWfiyRd"
      },
      "execution_count": 180,
      "outputs": []
    },
    {
      "cell_type": "code",
      "source": [],
      "metadata": {
        "colab": {
          "base_uri": "https://localhost:8080/"
        },
        "id": "jr2zrdOY8imw",
        "outputId": "0885c82b-29d3-40c7-d24d-0236aec4aeb1"
      },
      "execution_count": 179,
      "outputs": [
        {
          "output_type": "execute_result",
          "data": {
            "text/plain": [
              "27"
            ]
          },
          "metadata": {},
          "execution_count": 179
        }
      ]
    },
    {
      "cell_type": "code",
      "source": [
        "len(df_p) #.head(5)"
      ],
      "metadata": {
        "colab": {
          "base_uri": "https://localhost:8080/"
        },
        "id": "TneJ_7NjumQ_",
        "outputId": "4f81a113-965c-46d5-cd73-ab318f03c97d"
      },
      "execution_count": 107,
      "outputs": [
        {
          "output_type": "execute_result",
          "data": {
            "text/plain": [
              "1606"
            ]
          },
          "metadata": {},
          "execution_count": 107
        }
      ]
    },
    {
      "cell_type": "code",
      "source": [
        "plt.hist(df_p['PD'], 100)"
      ],
      "metadata": {
        "id": "-EiBYLTYi-qB"
      },
      "execution_count": null,
      "outputs": []
    },
    {
      "cell_type": "code",
      "source": [
        "# fit the model\n",
        "q_pd = smf.quantreg('PD ~ PTS+FGM+FG+TP+FTM+FT+OREB+DREB+AST+TOV+STL+BLK+PF',\n",
        "                     df_p).fit(q=0.95)\n",
        " \n",
        "# view model summary\n",
        "print(q_pd.summary())"
      ],
      "metadata": {
        "id": "3teyCSoCxO0g"
      },
      "execution_count": null,
      "outputs": []
    },
    {
      "cell_type": "code",
      "source": [
        "# fit the model\n",
        "q_pd = smf.quantreg('PD ~ PTS+FGM+FG+TP+FTM+FT+OREB+DREB+AST+TOV+STL+BLK+PF',\n",
        "                     df_p).fit(q=0.75)\n",
        " \n",
        "# view model summary\n",
        "print(q_pd.summary())"
      ],
      "metadata": {
        "id": "MOnPrvzfIP6H"
      },
      "execution_count": null,
      "outputs": []
    },
    {
      "cell_type": "code",
      "source": [
        "# fit the model\n",
        "q_pd = smf.quantreg('PD ~ PTS+FGM+FG+TP+FTM+FT+OREB+DREB+AST+TOV+STL+BLK+PF',\n",
        "                     df_p).fit(q=0.25)\n",
        " \n",
        "# view model summary\n",
        "print(q_pd.summary())"
      ],
      "metadata": {
        "id": "7pEhLUZzIQBl"
      },
      "execution_count": null,
      "outputs": []
    },
    {
      "cell_type": "code",
      "source": [
        "# fit the model\n",
        "q_pd = smf.quantreg('PD ~ PTS+FGM+FG+TP+FTM+FT+OREB+DREB+AST+TOV+STL+BLK+PF',\n",
        "                     df_p).fit(q=0.1)\n",
        " \n",
        "# view model summary\n",
        "print(q_pd.summary())"
      ],
      "metadata": {
        "id": "h_nswbnaIQGJ"
      },
      "execution_count": null,
      "outputs": []
    },
    {
      "cell_type": "code",
      "source": [],
      "metadata": {
        "id": "5ftUYwlDIQKO"
      },
      "execution_count": null,
      "outputs": []
    },
    {
      "cell_type": "code",
      "source": [
        "# Join four factors with box score\n",
        "df4all = pd.merge(df,df40, on = ['TEAM', 'GAME_DATE'])\n",
        "df4pd = df4all[['EFG%','FTR','TOV%','OREB%','OPPEFG%','OPPFTR','OPPTOV%','OPPOREB%','PD']]\n",
        "df4pd.columns = ['EFG',\t'FTR',\t'TOV',\t'OREB',\t'OPPEFG',\t'OPPFTR',\t'OPPTOV',\t'OPPOREB', 'PD']\n",
        "df4pd = df4pd[df4pd['PD']>0]"
      ],
      "metadata": {
        "id": "iZw7MooexO7k"
      },
      "execution_count": 147,
      "outputs": []
    },
    {
      "cell_type": "code",
      "source": [],
      "metadata": {
        "id": "cjp-KYnN651a"
      },
      "execution_count": 117,
      "outputs": []
    },
    {
      "cell_type": "code",
      "source": [],
      "metadata": {
        "id": "yaXGITPLvCnk"
      },
      "execution_count": 118,
      "outputs": []
    },
    {
      "cell_type": "code",
      "source": [
        "df4pd"
      ],
      "metadata": {
        "id": "A1J0XXsplswf"
      },
      "execution_count": null,
      "outputs": []
    },
    {
      "cell_type": "code",
      "source": [
        "x4pd = df4pd[['EFG',\t'FTR',\t'TOV',\t'OREB',\t'OPPEFG',\t'OPPFTR',\t'OPPTOV',\t'OPPOREB']]\n",
        "x4n = (x4pd - x4pd.mean()) / (x4pd.max() - x4pd.min())\n",
        "df4pd[x4n.columns] = x4n"
      ],
      "metadata": {
        "id": "Irt1nsBk7tgc"
      },
      "execution_count": 120,
      "outputs": []
    },
    {
      "cell_type": "code",
      "source": [
        "# fit the model\n",
        "q_4pd = smf.quantreg('PD ~ EFG+FTR+TOV+OREB+OPPEFG+OPPFTR+OPPTOV+OPPOREB',\n",
        "                     df4pd).fit(q=0.05)\n",
        " \n",
        "# view model summary\n",
        "print(q_4pd.summary().tables[1])"
      ],
      "metadata": {
        "id": "kK011XTyvCw8"
      },
      "execution_count": null,
      "outputs": []
    },
    {
      "cell_type": "code",
      "source": [
        "q_4pd.summary().tables[1]"
      ],
      "metadata": {
        "id": "2_oQdshMIdBe"
      },
      "execution_count": null,
      "outputs": []
    },
    {
      "cell_type": "code",
      "source": [
        "# fit the model\n",
        "q_4pd = smf.quantreg('PD ~ EFG+FTR+TOV+OREB+OPPEFG+OPPFTR+OPPTOV+OPPOREB',\n",
        "                     df4pd).fit(q=0.9)\n",
        " \n",
        "# view model summary\n",
        "q_4pd.summary().tables[1]"
      ],
      "metadata": {
        "id": "PBvS7u7svCzO"
      },
      "execution_count": null,
      "outputs": []
    },
    {
      "cell_type": "code",
      "source": [
        "# fit the model\n",
        "q_4ols = smf.ols('PD ~ EFG+FTR+TOV+OREB+OPPEFG+OPPFTR+OPPTOV+OPPOREB',\n",
        "                     df4pd).fit()\n",
        " \n",
        "# view model summary\n",
        "print(q_4ols.summary())"
      ],
      "metadata": {
        "colab": {
          "base_uri": "https://localhost:8080/"
        },
        "id": "RwTt_CHc5lS_",
        "outputId": "35bf9d1e-47c0-4ad1-e9e8-49ce83defb2f"
      },
      "execution_count": 174,
      "outputs": [
        {
          "output_type": "stream",
          "name": "stdout",
          "text": [
            "                            OLS Regression Results                            \n",
            "==============================================================================\n",
            "Dep. Variable:                     PD   R-squared:                       0.852\n",
            "Model:                            OLS   Adj. R-squared:                  0.851\n",
            "Method:                 Least Squares   F-statistic:                     1148.\n",
            "Date:                Sat, 10 Dec 2022   Prob (F-statistic):               0.00\n",
            "Time:                        02:34:53   Log-Likelihood:                -4254.8\n",
            "No. Observations:                1603   AIC:                             8528.\n",
            "Df Residuals:                    1594   BIC:                             8576.\n",
            "Df Model:                           8                                         \n",
            "Covariance Type:            nonrobust                                         \n",
            "==============================================================================\n",
            "                 coef    std err          t      P>|t|      [0.025      0.975]\n",
            "------------------------------------------------------------------------------\n",
            "Intercept      4.6639      1.229      3.796      0.000       2.254       7.074\n",
            "EFG            1.3545      0.017     79.925      0.000       1.321       1.388\n",
            "FTR           12.1780      1.018     11.957      0.000      10.180      14.176\n",
            "TOV           -1.1605      0.026    -43.986      0.000      -1.212      -1.109\n",
            "OREB           0.5447      0.013     43.226      0.000       0.520       0.569\n",
            "OPPEFG        -1.3645      0.018    -73.846      0.000      -1.401      -1.328\n",
            "OPPFTR       -14.1373      1.071    -13.196      0.000     -16.239     -12.036\n",
            "OPPTOV         1.1051      0.025     43.717      0.000       1.056       1.155\n",
            "OPPOREB       -0.5842      0.013    -44.271      0.000      -0.610      -0.558\n",
            "==============================================================================\n",
            "Omnibus:                        2.001   Durbin-Watson:                   1.947\n",
            "Prob(Omnibus):                  0.368   Jarque-Bera (JB):                2.056\n",
            "Skew:                           0.082   Prob(JB):                        0.358\n",
            "Kurtosis:                       2.940   Cond. No.                     1.29e+03\n",
            "==============================================================================\n",
            "\n",
            "Notes:\n",
            "[1] Standard Errors assume that the covariance matrix of the errors is correctly specified.\n",
            "[2] The condition number is large, 1.29e+03. This might indicate that there are\n",
            "strong multicollinearity or other numerical problems.\n"
          ]
        }
      ]
    },
    {
      "cell_type": "code",
      "source": [],
      "metadata": {
        "id": "oEIndv5V5lVv"
      },
      "execution_count": null,
      "outputs": []
    },
    {
      "cell_type": "markdown",
      "source": [
        "Winning Percentage"
      ],
      "metadata": {
        "id": "_3lmd0DdwwXr"
      }
    },
    {
      "cell_type": "code",
      "source": [
        "df4all = pd.merge(df,df40, on = ['TEAM', 'GAME_DATE'])\n",
        "df4all = df4all[['TEAM','EFG%','FTR','TOV%','OREB%','OPPEFG%','OPPFTR','OPPTOV%','OPPOREB%','PD']]\n",
        "df4all.columns = ['TEAM','EFG',\t'FTR',\t'TOV',\t'OREB',\t'OPPEFG',\t'OPPFTR',\t'OPPTOV',\t'OPPOREB', 'PD']\n",
        "# df4all = df4all[df4all['PD']>0]\n",
        "dfwp = pd.concat([df4all.groupby('TEAM').mean().iloc[:,:-1], df4all.groupby('TEAM').mean()['PD']], axis=1).reset_index(drop=True)\n",
        "dfwp['WP'] = (dfwp['PD'] * 2.7 + 41) / 82\n",
        "\n",
        "x = dfwp.iloc[:,:-1]\n",
        "xn = (x - x.mean()) / (x.max() - x.min())\n",
        "dfwp[xn.columns] = xn"
      ],
      "metadata": {
        "id": "eejbSRIUx7l0"
      },
      "execution_count": null,
      "outputs": []
    },
    {
      "cell_type": "code",
      "source": [
        "dfwp"
      ],
      "metadata": {
        "id": "0e-c2xSe5lYY"
      },
      "execution_count": null,
      "outputs": []
    },
    {
      "cell_type": "code",
      "source": [
        "# fit the model\n",
        "ols_wp = smf.ols('WP ~ EFG+FTR+TOV+OREB+OPPEFG+OPPFTR+OPPTOV+OPPOREB',\n",
        "                     dfwp).fit()\n",
        " \n",
        "# view model summary\n",
        "print(ols_wp.summary())"
      ],
      "metadata": {
        "colab": {
          "base_uri": "https://localhost:8080/"
        },
        "id": "S6ERpBbf5lbb",
        "outputId": "3834f3d5-1fd8-468e-b573-025274d0df48"
      },
      "execution_count": 173,
      "outputs": [
        {
          "output_type": "stream",
          "name": "stdout",
          "text": [
            "                            OLS Regression Results                            \n",
            "==============================================================================\n",
            "Dep. Variable:                     WP   R-squared:                       0.992\n",
            "Model:                            OLS   Adj. R-squared:                  0.989\n",
            "Method:                 Least Squares   F-statistic:                     314.2\n",
            "Date:                Sat, 10 Dec 2022   Prob (F-statistic):           4.39e-20\n",
            "Time:                        02:30:09   Log-Likelihood:                 87.903\n",
            "No. Observations:                  30   AIC:                            -157.8\n",
            "Df Residuals:                      21   BIC:                            -145.2\n",
            "Df Model:                           8                                         \n",
            "Covariance Type:            nonrobust                                         \n",
            "==============================================================================\n",
            "                 coef    std err          t      P>|t|      [0.025      0.975]\n",
            "------------------------------------------------------------------------------\n",
            "Intercept      0.4999      0.003    177.305      0.000       0.494       0.506\n",
            "EFG            0.3298      0.013     25.072      0.000       0.302       0.357\n",
            "FTR            0.0620      0.013      4.812      0.000       0.035       0.089\n",
            "TOV           -0.1982      0.015    -12.874      0.000      -0.230      -0.166\n",
            "OREB           0.1745      0.014     12.488      0.000       0.145       0.204\n",
            "OPPEFG        -0.2539      0.012    -20.463      0.000      -0.280      -0.228\n",
            "OPPFTR        -0.0361      0.014     -2.635      0.015      -0.065      -0.008\n",
            "OPPTOV         0.2020      0.017     11.951      0.000       0.167       0.237\n",
            "OPPOREB       -0.1119      0.013     -8.528      0.000      -0.139      -0.085\n",
            "==============================================================================\n",
            "Omnibus:                        1.072   Durbin-Watson:                   1.890\n",
            "Prob(Omnibus):                  0.585   Jarque-Bera (JB):                0.963\n",
            "Skew:                          -0.233   Prob(JB):                        0.618\n",
            "Kurtosis:                       2.256   Cond. No.                         7.27\n",
            "==============================================================================\n",
            "\n",
            "Notes:\n",
            "[1] Standard Errors assume that the covariance matrix of the errors is correctly specified.\n"
          ]
        }
      ]
    },
    {
      "cell_type": "markdown",
      "source": [
        "Pythagorean Winning Percentage"
      ],
      "metadata": {
        "id": "kn7cIt2w83Nq"
      }
    },
    {
      "cell_type": "code",
      "source": [
        "df_p0['AWAYPTS'] = df_p0['PTS'] - df_p0['PD']\n",
        "df4all = pd.merge(df_p0,df40, on = ['TEAM', 'GAME_DATE'])\n",
        "df4all = df4all[['TEAM','EFG%','FTR','TOV%','OREB%','OPPEFG%','OPPFTR','OPPTOV%','OPPOREB%','PTS','AWAYPTS']]\n",
        "df4all.columns = ['TEAM','EFG',\t'FTR',\t'TOV',\t'OREB',\t'OPPEFG',\t'OPPFTR',\t'OPPTOV',\t'OPPOREB', 'PTS','AWAYPTS']\n",
        "\n",
        "dfpwp = pd.concat([df4all.groupby('TEAM').mean().iloc[:,:-2], df4all.groupby('TEAM').mean()[['PTS','AWAYPTS']]], axis=1).reset_index(drop=True)\n",
        "\n",
        "x = dfpwp.iloc[:,:-2]\n",
        "xn = (x - x.mean()) / (x.max() - x.min())\n",
        "dfpwp[xn.columns] = xn\n",
        "\n",
        "dfpwp['PWP'] = (dfpwp['PTS']**16.5 / (dfpwp['PTS']**16.5 + dfpwp['AWAYPTS']**16.5))\n",
        "dfpwp = dfpwp[['EFG',\t'FTR',\t'TOV',\t'OREB',\t'OPPEFG',\t'OPPFTR',\t'OPPTOV',\t'OPPOREB', 'PWP']]"
      ],
      "metadata": {
        "id": "qfuoXtTJ5leo"
      },
      "execution_count": 205,
      "outputs": []
    },
    {
      "cell_type": "code",
      "source": [
        "dfpwp"
      ],
      "metadata": {
        "id": "hE_nETJW5liU"
      },
      "execution_count": null,
      "outputs": []
    },
    {
      "cell_type": "code",
      "source": [
        "# fit the model\n",
        "ols_pwp = smf.ols('PWP ~ EFG+FTR+TOV+OREB+OPPEFG+OPPFTR+OPPTOV+OPPOREB',\n",
        "                     dfpwp).fit()\n",
        " \n",
        "# view model summary\n",
        "print(ols_pwp.summary())"
      ],
      "metadata": {
        "colab": {
          "base_uri": "https://localhost:8080/"
        },
        "id": "DCRYwk065l3x",
        "outputId": "bfa46543-cd57-4233-cde5-b262822aa271"
      },
      "execution_count": 208,
      "outputs": [
        {
          "output_type": "stream",
          "name": "stdout",
          "text": [
            "                            OLS Regression Results                            \n",
            "==============================================================================\n",
            "Dep. Variable:                    PWP   R-squared:                       0.992\n",
            "Model:                            OLS   Adj. R-squared:                  0.990\n",
            "Method:                 Least Squares   F-statistic:                     344.8\n",
            "Date:                Sat, 10 Dec 2022   Prob (F-statistic):           1.67e-20\n",
            "Time:                        03:17:43   Log-Likelihood:                 87.792\n",
            "No. Observations:                  30   AIC:                            -157.6\n",
            "Df Residuals:                      21   BIC:                            -145.0\n",
            "Df Model:                           8                                         \n",
            "Covariance Type:            nonrobust                                         \n",
            "==============================================================================\n",
            "                 coef    std err          t      P>|t|      [0.025      0.975]\n",
            "------------------------------------------------------------------------------\n",
            "Intercept      0.5018      0.003    177.344      0.000       0.496       0.508\n",
            "EFG            0.3466      0.013     26.255      0.000       0.319       0.374\n",
            "FTR            0.0747      0.013      5.781      0.000       0.048       0.102\n",
            "TOV           -0.1988      0.015    -12.870      0.000      -0.231      -0.167\n",
            "OREB           0.1822      0.014     12.988      0.000       0.153       0.211\n",
            "OPPEFG        -0.2675      0.012    -21.477      0.000      -0.293      -0.242\n",
            "OPPFTR        -0.0409      0.014     -2.975      0.007      -0.069      -0.012\n",
            "OPPTOV         0.2245      0.017     13.233      0.000       0.189       0.260\n",
            "OPPOREB       -0.1210      0.013     -9.185      0.000      -0.148      -0.094\n",
            "==============================================================================\n",
            "Omnibus:                        0.060   Durbin-Watson:                   1.814\n",
            "Prob(Omnibus):                  0.970   Jarque-Bera (JB):                0.212\n",
            "Skew:                          -0.091   Prob(JB):                        0.899\n",
            "Kurtosis:                       2.630   Cond. No.                         7.27\n",
            "==============================================================================\n",
            "\n",
            "Notes:\n",
            "[1] Standard Errors assume that the covariance matrix of the errors is correctly specified.\n"
          ]
        }
      ]
    },
    {
      "cell_type": "markdown",
      "source": [
        "CART"
      ],
      "metadata": {
        "id": "htIuSrSUNqBD"
      }
    },
    {
      "cell_type": "code",
      "source": [
        "from sklearn.metrics import classification_report # for model evaluation metrics\n",
        "from sklearn import tree # for decision tree models\n",
        "\n",
        "import plotly.express as px  # for data visualization\n",
        "import plotly.graph_objects as go # for data visualization\n",
        "import graphviz # for plotting decision tree graphs\n"
      ],
      "metadata": {
        "id": "Ay46Ztxi5l6b"
      },
      "execution_count": 209,
      "outputs": []
    },
    {
      "cell_type": "code",
      "source": [
        "clf = tree.DecisionTreeClassifier()\n",
        "clf = clf.fit(x_train, y_train)"
      ],
      "metadata": {
        "id": "LSx5BbMuNpkA"
      },
      "execution_count": 262,
      "outputs": []
    },
    {
      "cell_type": "code",
      "source": [
        "importance = clft.feature_importances_"
      ],
      "metadata": {
        "id": "jVExbKuIXlID"
      },
      "execution_count": 280,
      "outputs": []
    },
    {
      "cell_type": "code",
      "source": [
        "importance"
      ],
      "metadata": {
        "colab": {
          "base_uri": "https://localhost:8080/"
        },
        "id": "-JlZgq3gXnq6",
        "outputId": "1169e311-e7ad-4478-eb47-c5b6f6848c15"
      },
      "execution_count": 281,
      "outputs": [
        {
          "output_type": "execute_result",
          "data": {
            "text/plain": [
              "array([0.0472305 , 0.09787169, 0.05204726, 0.07281392, 0.08684603,\n",
              "       0.16113569, 0.06750995, 0.060391  , 0.29247631, 0.06167764])"
            ]
          },
          "metadata": {},
          "execution_count": 281
        }
      ]
    },
    {
      "cell_type": "code",
      "source": [
        "xa_train.columns"
      ],
      "metadata": {
        "colab": {
          "base_uri": "https://localhost:8080/"
        },
        "id": "tngHajxoXo7j",
        "outputId": "50ba5083-6a42-4358-d059-298fb0bc2097"
      },
      "execution_count": 279,
      "outputs": [
        {
          "output_type": "execute_result",
          "data": {
            "text/plain": [
              "Index(['AST%', 'AST/TO', 'ASTRAT', 'OREB%', 'DREB%', 'REB%', 'TOV%', 'EFG%',\n",
              "       'TS%', 'PACE'],\n",
              "      dtype='object')"
            ]
          },
          "metadata": {},
          "execution_count": 279
        }
      ]
    },
    {
      "cell_type": "code",
      "source": [
        "accuracy_score(y_test, list(map(round, clf.predict(x_test))))"
      ],
      "metadata": {
        "colab": {
          "base_uri": "https://localhost:8080/"
        },
        "id": "mqxLjcpGPXJO",
        "outputId": "9498ada6-1514-4964-8288-bb7497d98849"
      },
      "execution_count": 220,
      "outputs": [
        {
          "output_type": "execute_result",
          "data": {
            "text/plain": [
              "0.68"
            ]
          },
          "metadata": {},
          "execution_count": 220
        }
      ]
    },
    {
      "cell_type": "code",
      "source": [
        "temp = pd.DataFrame({'Var': ['AST%', 'AST/TO', 'ASTRAT', 'OREB%', 'DREB%', 'REB%', 'TOV%', 'EFG%',\n",
        "       'TS%', 'PACE'],\n",
        "       'Importance':[0.0472305 , 0.09787169, 0.05204726, 0.07281392, 0.08684603,\n",
        "       0.16113569, 0.06750995, 0.060391  , 0.29247631, 0.06167764]})"
      ],
      "metadata": {
        "id": "fgkWU6B-Pt7e"
      },
      "execution_count": 282,
      "outputs": []
    },
    {
      "cell_type": "code",
      "source": [
        "tree.plot_tree(clf)"
      ],
      "metadata": {
        "id": "3ki175v6Ott5"
      },
      "execution_count": null,
      "outputs": []
    },
    {
      "cell_type": "code",
      "source": [
        "dfa = pd.read_csv('/content/sample_data/advanced_box_score_2023.csv', encoding='latin-1')\n",
        "dfa['W/L'] = pd.get_dummies(dfa['W/L'])['W']\n",
        "dfa_1 = dfa.loc[:,~dfa.columns.isin(['TEAM','MATCH_UP','GAME_DATE','MIN','OFFRTG','DEFRTG','NETRTG','PIE'])]\n",
        "dfa_1 = dfa_1.dropna()\n",
        "\n",
        "xa_1 = dfa_1.loc[:,dfa_1.columns != 'W/L'].reset_index(drop = True) \n",
        "# xa_n = (xa_1 - xa_1.mean()) / (xa_1.max() - xa_1.min())\n",
        "# xa_1[xa_n.columns] = xa_n\n",
        "ya_1 = dfa_1.loc[:,dfa_1.columns == 'W/L'].reset_index(drop = True)\n",
        "ya_1 = ya_1['W/L']"
      ],
      "metadata": {
        "id": "3MiUm7lRNpmO"
      },
      "execution_count": 210,
      "outputs": []
    },
    {
      "cell_type": "code",
      "source": [
        "clft = tree.DecisionTreeRegressor()\n",
        "clft = clft.fit(x_train, y_train)"
      ],
      "metadata": {
        "id": "k1P1l68LPL4j"
      },
      "execution_count": 270,
      "outputs": []
    },
    {
      "cell_type": "code",
      "source": [
        "accuracy_score(y_test, list(map(round, clft.predict(x_test))))"
      ],
      "metadata": {
        "colab": {
          "base_uri": "https://localhost:8080/"
        },
        "id": "5-PHPM8MPmA9",
        "outputId": "e0f51194-b0e5-4200-ead2-3cfae55424ed"
      },
      "execution_count": 222,
      "outputs": [
        {
          "output_type": "execute_result",
          "data": {
            "text/plain": [
              "0.705"
            ]
          },
          "metadata": {},
          "execution_count": 222
        }
      ]
    },
    {
      "cell_type": "code",
      "source": [
        "clft = tree.DecisionTreeRegressor()\n",
        "clft = clft.fit(xa_train, ya_train)"
      ],
      "metadata": {
        "id": "pplsaccoP1-g"
      },
      "execution_count": 277,
      "outputs": []
    },
    {
      "cell_type": "code",
      "source": [
        "accuracy_score(ya_test, list(map(round, clft.predict(xa_test))))"
      ],
      "metadata": {
        "colab": {
          "base_uri": "https://localhost:8080/"
        },
        "id": "6sDrn1nBP5ne",
        "outputId": "b1d0aab9-7600-40ce-98ce-8c87787a1adb"
      },
      "execution_count": 227,
      "outputs": [
        {
          "output_type": "execute_result",
          "data": {
            "text/plain": [
              "0.6858475894245724"
            ]
          },
          "metadata": {},
          "execution_count": 227
        }
      ]
    },
    {
      "cell_type": "code",
      "source": [
        "clft = tree.DecisionTreeRegressor()\n",
        "clft = clft.fit(x4_train, y4_train)"
      ],
      "metadata": {
        "id": "6Ngd3VnSQCuw"
      },
      "execution_count": 231,
      "outputs": []
    },
    {
      "cell_type": "code",
      "source": [
        "x4_train.columns"
      ],
      "metadata": {
        "colab": {
          "base_uri": "https://localhost:8080/"
        },
        "id": "XCrZ4PRXVNrw",
        "outputId": "65d2341d-8552-4477-e1ff-769c7644832d"
      },
      "execution_count": 242,
      "outputs": [
        {
          "output_type": "execute_result",
          "data": {
            "text/plain": [
              "Index(['HOME', 'EFG', 'FTR', 'TOV', 'OREB', 'OPPEFG', 'OPPFTR', 'OPPTOV',\n",
              "       'OPPOREB'],\n",
              "      dtype='object')"
            ]
          },
          "metadata": {},
          "execution_count": 242
        }
      ]
    },
    {
      "cell_type": "code",
      "source": [
        "temp = pd.DataFrame({'Var': ['HOME', 'EFG', 'FTR', 'TOV', 'OREB', 'OPPEFG', 'OPPFTR', 'OPPTOV',\n",
        "       'OPPOREB'],\n",
        "       'Importance': [0.00659896, 0.29037141, 0.04570097, 0.08860581, 0.07314298,\n",
        "       0.30450245, 0.03882786, 0.08862623, 0.06362334]})"
      ],
      "metadata": {
        "id": "jJlB2_PYWK5b"
      },
      "execution_count": 252,
      "outputs": []
    },
    {
      "cell_type": "code",
      "source": [
        "temp"
      ],
      "metadata": {
        "colab": {
          "base_uri": "https://localhost:8080/",
          "height": 332
        },
        "id": "riXakGc7VvLz",
        "outputId": "85558925-7d5d-43c5-e077-4f8c2f36b805"
      },
      "execution_count": 253,
      "outputs": [
        {
          "output_type": "execute_result",
          "data": {
            "text/plain": [
              "       Var  Importance\n",
              "0     HOME    0.006599\n",
              "1      EFG    0.290371\n",
              "2      FTR    0.045701\n",
              "3      TOV    0.088606\n",
              "4     OREB    0.073143\n",
              "5   OPPEFG    0.304502\n",
              "6   OPPFTR    0.038828\n",
              "7   OPPTOV    0.088626\n",
              "8  OPPOREB    0.063623"
            ],
            "text/html": [
              "\n",
              "  <div id=\"df-b3ce75ec-9033-42a7-b751-025a508d9c7c\">\n",
              "    <div class=\"colab-df-container\">\n",
              "      <div>\n",
              "<style scoped>\n",
              "    .dataframe tbody tr th:only-of-type {\n",
              "        vertical-align: middle;\n",
              "    }\n",
              "\n",
              "    .dataframe tbody tr th {\n",
              "        vertical-align: top;\n",
              "    }\n",
              "\n",
              "    .dataframe thead th {\n",
              "        text-align: right;\n",
              "    }\n",
              "</style>\n",
              "<table border=\"1\" class=\"dataframe\">\n",
              "  <thead>\n",
              "    <tr style=\"text-align: right;\">\n",
              "      <th></th>\n",
              "      <th>Var</th>\n",
              "      <th>Importance</th>\n",
              "    </tr>\n",
              "  </thead>\n",
              "  <tbody>\n",
              "    <tr>\n",
              "      <th>0</th>\n",
              "      <td>HOME</td>\n",
              "      <td>0.006599</td>\n",
              "    </tr>\n",
              "    <tr>\n",
              "      <th>1</th>\n",
              "      <td>EFG</td>\n",
              "      <td>0.290371</td>\n",
              "    </tr>\n",
              "    <tr>\n",
              "      <th>2</th>\n",
              "      <td>FTR</td>\n",
              "      <td>0.045701</td>\n",
              "    </tr>\n",
              "    <tr>\n",
              "      <th>3</th>\n",
              "      <td>TOV</td>\n",
              "      <td>0.088606</td>\n",
              "    </tr>\n",
              "    <tr>\n",
              "      <th>4</th>\n",
              "      <td>OREB</td>\n",
              "      <td>0.073143</td>\n",
              "    </tr>\n",
              "    <tr>\n",
              "      <th>5</th>\n",
              "      <td>OPPEFG</td>\n",
              "      <td>0.304502</td>\n",
              "    </tr>\n",
              "    <tr>\n",
              "      <th>6</th>\n",
              "      <td>OPPFTR</td>\n",
              "      <td>0.038828</td>\n",
              "    </tr>\n",
              "    <tr>\n",
              "      <th>7</th>\n",
              "      <td>OPPTOV</td>\n",
              "      <td>0.088626</td>\n",
              "    </tr>\n",
              "    <tr>\n",
              "      <th>8</th>\n",
              "      <td>OPPOREB</td>\n",
              "      <td>0.063623</td>\n",
              "    </tr>\n",
              "  </tbody>\n",
              "</table>\n",
              "</div>\n",
              "      <button class=\"colab-df-convert\" onclick=\"convertToInteractive('df-b3ce75ec-9033-42a7-b751-025a508d9c7c')\"\n",
              "              title=\"Convert this dataframe to an interactive table.\"\n",
              "              style=\"display:none;\">\n",
              "        \n",
              "  <svg xmlns=\"http://www.w3.org/2000/svg\" height=\"24px\"viewBox=\"0 0 24 24\"\n",
              "       width=\"24px\">\n",
              "    <path d=\"M0 0h24v24H0V0z\" fill=\"none\"/>\n",
              "    <path d=\"M18.56 5.44l.94 2.06.94-2.06 2.06-.94-2.06-.94-.94-2.06-.94 2.06-2.06.94zm-11 1L8.5 8.5l.94-2.06 2.06-.94-2.06-.94L8.5 2.5l-.94 2.06-2.06.94zm10 10l.94 2.06.94-2.06 2.06-.94-2.06-.94-.94-2.06-.94 2.06-2.06.94z\"/><path d=\"M17.41 7.96l-1.37-1.37c-.4-.4-.92-.59-1.43-.59-.52 0-1.04.2-1.43.59L10.3 9.45l-7.72 7.72c-.78.78-.78 2.05 0 2.83L4 21.41c.39.39.9.59 1.41.59.51 0 1.02-.2 1.41-.59l7.78-7.78 2.81-2.81c.8-.78.8-2.07 0-2.86zM5.41 20L4 18.59l7.72-7.72 1.47 1.35L5.41 20z\"/>\n",
              "  </svg>\n",
              "      </button>\n",
              "      \n",
              "  <style>\n",
              "    .colab-df-container {\n",
              "      display:flex;\n",
              "      flex-wrap:wrap;\n",
              "      gap: 12px;\n",
              "    }\n",
              "\n",
              "    .colab-df-convert {\n",
              "      background-color: #E8F0FE;\n",
              "      border: none;\n",
              "      border-radius: 50%;\n",
              "      cursor: pointer;\n",
              "      display: none;\n",
              "      fill: #1967D2;\n",
              "      height: 32px;\n",
              "      padding: 0 0 0 0;\n",
              "      width: 32px;\n",
              "    }\n",
              "\n",
              "    .colab-df-convert:hover {\n",
              "      background-color: #E2EBFA;\n",
              "      box-shadow: 0px 1px 2px rgba(60, 64, 67, 0.3), 0px 1px 3px 1px rgba(60, 64, 67, 0.15);\n",
              "      fill: #174EA6;\n",
              "    }\n",
              "\n",
              "    [theme=dark] .colab-df-convert {\n",
              "      background-color: #3B4455;\n",
              "      fill: #D2E3FC;\n",
              "    }\n",
              "\n",
              "    [theme=dark] .colab-df-convert:hover {\n",
              "      background-color: #434B5C;\n",
              "      box-shadow: 0px 1px 3px 1px rgba(0, 0, 0, 0.15);\n",
              "      filter: drop-shadow(0px 1px 2px rgba(0, 0, 0, 0.3));\n",
              "      fill: #FFFFFF;\n",
              "    }\n",
              "  </style>\n",
              "\n",
              "      <script>\n",
              "        const buttonEl =\n",
              "          document.querySelector('#df-b3ce75ec-9033-42a7-b751-025a508d9c7c button.colab-df-convert');\n",
              "        buttonEl.style.display =\n",
              "          google.colab.kernel.accessAllowed ? 'block' : 'none';\n",
              "\n",
              "        async function convertToInteractive(key) {\n",
              "          const element = document.querySelector('#df-b3ce75ec-9033-42a7-b751-025a508d9c7c');\n",
              "          const dataTable =\n",
              "            await google.colab.kernel.invokeFunction('convertToInteractive',\n",
              "                                                     [key], {});\n",
              "          if (!dataTable) return;\n",
              "\n",
              "          const docLinkHtml = 'Like what you see? Visit the ' +\n",
              "            '<a target=\"_blank\" href=https://colab.research.google.com/notebooks/data_table.ipynb>data table notebook</a>'\n",
              "            + ' to learn more about interactive tables.';\n",
              "          element.innerHTML = '';\n",
              "          dataTable['output_type'] = 'display_data';\n",
              "          await google.colab.output.renderOutput(dataTable, element);\n",
              "          const docLink = document.createElement('div');\n",
              "          docLink.innerHTML = docLinkHtml;\n",
              "          element.appendChild(docLink);\n",
              "        }\n",
              "      </script>\n",
              "    </div>\n",
              "  </div>\n",
              "  "
            ]
          },
          "metadata": {},
          "execution_count": 253
        }
      ]
    },
    {
      "cell_type": "code",
      "source": [
        "temp = temp.sort_values('Importance')"
      ],
      "metadata": {
        "id": "HX5u_NZmWYr2"
      },
      "execution_count": 283,
      "outputs": []
    },
    {
      "cell_type": "code",
      "source": [
        "temp.plot.scatter('Importance', 'Var')"
      ],
      "metadata": {
        "colab": {
          "base_uri": "https://localhost:8080/",
          "height": 296
        },
        "id": "kXOwfkUZWwdN",
        "outputId": "6fc34e36-5d02-48d1-ed84-e25ba41be714"
      },
      "execution_count": 284,
      "outputs": [
        {
          "output_type": "execute_result",
          "data": {
            "text/plain": [
              "<matplotlib.axes._subplots.AxesSubplot at 0x7f81a8355ca0>"
            ]
          },
          "metadata": {},
          "execution_count": 284
        },
        {
          "output_type": "display_data",
          "data": {
            "text/plain": [
              "<Figure size 432x288 with 1 Axes>"
            ],
            "image/png": "[encoded data removed]"
          },
          "metadata": {
            "needs_background": "light"
          }
        }
      ]
    },
    {
      "cell_type": "code",
      "source": [
        "importance = clft.feature_importances_\n",
        "# summarize feature importance\n",
        "for i,v in enumerate(importance):\n",
        " print('Feature: %0d, Score: %.5f' % (i,v))\n",
        "# plot feature importance\n",
        "pyplot.bar([x for x in range(len(importance))], importance)\n",
        "pyplot.show()"
      ],
      "metadata": {
        "colab": {
          "base_uri": "https://localhost:8080/",
          "height": 421
        },
        "id": "CVgG-7j-StNM",
        "outputId": "4bef1029-bd8e-4933-93d8-5465c4efa677"
      },
      "execution_count": 249,
      "outputs": [
        {
          "output_type": "stream",
          "name": "stdout",
          "text": [
            "Feature: 0, Score: 0.00660\n",
            "Feature: 1, Score: 0.29037\n",
            "Feature: 2, Score: 0.04570\n",
            "Feature: 3, Score: 0.08861\n",
            "Feature: 4, Score: 0.07314\n",
            "Feature: 5, Score: 0.30450\n",
            "Feature: 6, Score: 0.03883\n",
            "Feature: 7, Score: 0.08863\n",
            "Feature: 8, Score: 0.06362\n"
          ]
        },
        {
          "output_type": "display_data",
          "data": {
            "text/plain": [
              "<Figure size 432x288 with 1 Axes>"
            ],
            "image/png": "[encoded data removed]"
          },
          "metadata": {
            "needs_background": "light"
          }
        }
      ]
    },
    {
      "cell_type": "code",
      "source": [
        "importance.sort()"
      ],
      "metadata": {
        "id": "PdxFOxkOUW5a"
      },
      "execution_count": 237,
      "outputs": []
    },
    {
      "cell_type": "code",
      "source": [
        "importance"
      ],
      "metadata": {
        "colab": {
          "base_uri": "https://localhost:8080/"
        },
        "id": "goayeHC8Ucho",
        "outputId": "834fd14d-8f98-4772-c295-d451696a20d7"
      },
      "execution_count": 250,
      "outputs": [
        {
          "output_type": "execute_result",
          "data": {
            "text/plain": [
              "array([0.00659896, 0.29037141, 0.04570097, 0.08860581, 0.07314298,\n",
              "       0.30450245, 0.03882786, 0.08862623, 0.06362334])"
            ]
          },
          "metadata": {},
          "execution_count": 250
        }
      ]
    },
    {
      "cell_type": "code",
      "source": [
        "pyplot.scatter([x for x in range(len(importance))], importance)\n",
        "pyplot.show()"
      ],
      "metadata": {
        "colab": {
          "base_uri": "https://localhost:8080/",
          "height": 265
        },
        "id": "-C4L66J1UhMT",
        "outputId": "fc89a0ab-1184-4226-8e58-5e4ac9ce230a"
      },
      "execution_count": 241,
      "outputs": [
        {
          "output_type": "display_data",
          "data": {
            "text/plain": [
              "<Figure size 432x288 with 1 Axes>"
            ],
            "image/png": "[encoded data removed]"
          },
          "metadata": {
            "needs_background": "light"
          }
        }
      ]
    },
    {
      "cell_type": "code",
      "source": [],
      "metadata": {
        "id": "enP94ER9U0x8"
      },
      "execution_count": null,
      "outputs": []
    },
    {
      "cell_type": "code",
      "source": [],
      "metadata": {
        "id": "B7AIH8NrUmRI"
      },
      "execution_count": null,
      "outputs": []
    },
    {
      "cell_type": "code",
      "source": [
        "accuracy_score(y4_test, list(map(round, clft.predict(x4_test))))"
      ],
      "metadata": {
        "colab": {
          "base_uri": "https://localhost:8080/"
        },
        "id": "nLUQqyDlQEDf",
        "outputId": "8db1d8e2-1173-45d9-c89d-e7ca3efadd1f"
      },
      "execution_count": 233,
      "outputs": [
        {
          "output_type": "execute_result",
          "data": {
            "text/plain": [
              "0.7975077881619937"
            ]
          },
          "metadata": {},
          "execution_count": 233
        }
      ]
    }
  ]
}