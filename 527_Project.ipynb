{
  "nbformat": 4,
  "nbformat_minor": 0,
  "metadata": {
    "colab": {
      "provenance": [],
      "authorship_tag": "ABX9TyNLzVhs320vnC9vk9S2cBbA",
      "include_colab_link": true
    },
    "kernelspec": {
      "name": "python3",
      "display_name": "Python 3"
    },
    "language_info": {
      "name": "python"
    }
  },
  "cells": [
    {
      "cell_type": "markdown",
      "metadata": {
        "id": "view-in-github",
        "colab_type": "text"
      },
      "source": [
        "<a href=\"https://colab.research.google.com/github/kurt980/kurt980/blob/main/527_Project.ipynb\" target=\"_parent\"><img src=\"https://colab.research.google.com/assets/colab-badge.svg\" alt=\"Open In Colab\"/></a>"
      ]
    },
    {
      "cell_type": "code",
      "execution_count": 1,
      "metadata": {
        "id": "arfS5lYaMgKx"
      },
      "outputs": [],
      "source": [
        "import pandas as pd\n",
        "import numpy as np\n",
        "import sklearn\n",
        "from sklearn.linear_model import LinearRegression\n",
        "from sklearn.model_selection import train_test_split\n",
        "from sklearn.linear_model import LogisticRegression\n",
        "from sklearn.metrics import accuracy_score\n",
        "import matplotlib.pyplot as plt\n",
        "from sklearn.decomposition import PCA as sklearnPCA\n",
        "from sklearn.discriminant_analysis import LinearDiscriminantAnalysis as LDA\n",
        "from sklearn.preprocessing import PolynomialFeatures\n",
        "from sklearn.pipeline import Pipeline"
      ]
    },
    {
      "cell_type": "code",
      "source": [
        "import statsmodels.api as sm"
      ],
      "metadata": {
        "id": "jTzoQYrPMEgw"
      },
      "execution_count": 2,
      "outputs": []
    },
    {
      "cell_type": "code",
      "source": [
        "df = pd.read_csv('/content/sample_data/games.csv')"
      ],
      "metadata": {
        "id": "mFaSBd33M38F"
      },
      "execution_count": 3,
      "outputs": []
    },
    {
      "cell_type": "code",
      "source": [
        "df.columns"
      ],
      "metadata": {
        "colab": {
          "base_uri": "https://localhost:8080/"
        },
        "id": "FcMQ_0zUM3_B",
        "outputId": "5d2d78ef-8cb1-4d39-bc6f-1df1ea9ae072"
      },
      "execution_count": null,
      "outputs": [
        {
          "output_type": "execute_result",
          "data": {
            "text/plain": [
              "Index(['GAME_DATE_EST', 'GAME_ID', 'GAME_STATUS_TEXT', 'HOME_TEAM_ID',\n",
              "       'VISITOR_TEAM_ID', 'SEASON', 'TEAM_ID_home', 'PTS_home', 'FG_PCT_home',\n",
              "       'FT_PCT_home', 'FG3_PCT_home', 'AST_home', 'REB_home', 'TEAM_ID_away',\n",
              "       'PTS_away', 'FG_PCT_away', 'FT_PCT_away', 'FG3_PCT_away', 'AST_away',\n",
              "       'REB_away', 'HOME_TEAM_WINS'],\n",
              "      dtype='object')"
            ]
          },
          "metadata": {},
          "execution_count": 266
        }
      ]
    },
    {
      "cell_type": "code",
      "source": [
        "df = df.dropna(axis=0)"
      ],
      "metadata": {
        "id": "-19DrbQhVmM9"
      },
      "execution_count": 4,
      "outputs": []
    },
    {
      "cell_type": "code",
      "source": [
        "df_1 = df.sample(n = 1000).loc[:,~df.columns.isin(['GAME_DATE_EST', 'GAME_STATUS_TEXT', 'HOME_TEAM_ID', 'VISITOR_TEAM_ID', 'GAME_ID', 'SEASON', 'TEAM_ID_home', 'TEAM_ID_away', 'PTS_home', 'PTS_away'])]"
      ],
      "metadata": {
        "id": "YRxn6KwsM4HD"
      },
      "execution_count": 90,
      "outputs": []
    },
    {
      "cell_type": "code",
      "source": [
        "x_1 = df_1.loc[:,df_1.columns != 'HOME_TEAM_WINS'].reset_index(drop = True) \n",
        "y_1 = df_1.loc[:,df_1.columns == 'HOME_TEAM_WINS'].reset_index(drop = True)"
      ],
      "metadata": {
        "id": "vN1Ob1NCUkQK"
      },
      "execution_count": 91,
      "outputs": []
    },
    {
      "cell_type": "code",
      "source": [
        "x_num = x_1.select_dtypes(include='number')"
      ],
      "metadata": {
        "id": "D4kR5F1sOsxm"
      },
      "execution_count": 92,
      "outputs": []
    },
    {
      "cell_type": "code",
      "source": [
        "x_norm = (x_num - x_num.mean()) / (x_num.max() - x_num.min())"
      ],
      "metadata": {
        "id": "EqYfLQGgM4Jh"
      },
      "execution_count": 93,
      "outputs": []
    },
    {
      "cell_type": "code",
      "source": [
        "x_1[x_norm.columns] = x_norm"
      ],
      "metadata": {
        "id": "BS6cUuCoM4L1"
      },
      "execution_count": 94,
      "outputs": []
    },
    {
      "cell_type": "code",
      "source": [
        "x_1"
      ],
      "metadata": {
        "id": "qNIXVcOxM4OT"
      },
      "execution_count": null,
      "outputs": []
    },
    {
      "cell_type": "code",
      "source": [
        "pca = sklearnPCA(n_components=2) #2-dimensional PCA\n",
        "transformed = pd.DataFrame(pca.fit_transform(x_1))"
      ],
      "metadata": {
        "id": "_cEPTdfGTg58"
      },
      "execution_count": 95,
      "outputs": []
    },
    {
      "cell_type": "code",
      "source": [
        "y_1 = y_1['HOME_TEAM_WINS']"
      ],
      "metadata": {
        "id": "kgsDP2VRWwuK"
      },
      "execution_count": 96,
      "outputs": []
    },
    {
      "cell_type": "code",
      "source": [
        "plt.scatter(transformed[y_1==1][0], transformed[y_1==1][1], label='WIN', c='red')\n",
        "plt.scatter(transformed[y_1==0][0], transformed[y_1==0][1], label='LOSS', c='blue')\n",
        "\n",
        "plt.legend()\n",
        "plt.show()"
      ],
      "metadata": {
        "colab": {
          "base_uri": "https://localhost:8080/",
          "height": 265
        },
        "id": "JHgvwS3HTg85",
        "outputId": "58c71a4c-e28f-4ca2-f9e0-dc53509b4068"
      },
      "execution_count": 97,
      "outputs": [
        {
          "output_type": "display_data",
          "data": {
            "text/plain": [
              "<Figure size 432x288 with 1 Axes>"
            ],
            "image/png": "[encoded data removed]"
          },
          "metadata": {
            "needs_background": "light"
          }
        }
      ]
    },
    {
      "cell_type": "code",
      "source": [
        "# split train and test by 4:1\n",
        "x_train, x_test, y_train, y_test = train_test_split(x_1,y_1,test_size=0.2)"
      ],
      "metadata": {
        "id": "vmclKj9u7mSY"
      },
      "execution_count": 122,
      "outputs": []
    },
    {
      "cell_type": "markdown",
      "source": [
        "Logistic Regression"
      ],
      "metadata": {
        "id": "wcJDlxnVJrs5"
      }
    },
    {
      "cell_type": "code",
      "source": [
        "log_reg = sm.Logit(y_train, x_train).fit()"
      ],
      "metadata": {
        "id": "Ght66J7ImSoA",
        "colab": {
          "base_uri": "https://localhost:8080/"
        },
        "outputId": "24f37f5b-f928-44ce-9c16-4ac68170cc3c"
      },
      "execution_count": 123,
      "outputs": [
        {
          "output_type": "stream",
          "name": "stdout",
          "text": [
            "Optimization terminated successfully.\n",
            "         Current function value: 0.378444\n",
            "         Iterations 7\n"
          ]
        }
      ]
    },
    {
      "cell_type": "code",
      "source": [
        "accuracy_score(y_test, list(map(round, log_reg.predict(x_test))))"
      ],
      "metadata": {
        "colab": {
          "base_uri": "https://localhost:8080/"
        },
        "id": "8dGT6muhmS04",
        "outputId": "1dc666b5-16a6-432f-b7e0-c1842162121d"
      },
      "execution_count": 124,
      "outputs": [
        {
          "output_type": "execute_result",
          "data": {
            "text/plain": [
              "0.81"
            ]
          },
          "metadata": {},
          "execution_count": 124
        }
      ]
    },
    {
      "cell_type": "code",
      "source": [
        "print(log_reg.summary())"
      ],
      "metadata": {
        "id": "6J7YFFUvmS3V"
      },
      "execution_count": null,
      "outputs": []
    },
    {
      "cell_type": "markdown",
      "source": [
        "Polynomial Logistic"
      ],
      "metadata": {
        "id": "E4Zf-qJGf6RG"
      }
    },
    {
      "cell_type": "code",
      "source": [
        "poly = PolynomialFeatures(degree = 2, interaction_only=False, include_bias = True)\n",
        "x_poly = poly.fit_transform(x_train)\n",
        "x_poly.shape"
      ],
      "metadata": {
        "colab": {
          "base_uri": "https://localhost:8080/"
        },
        "id": "gN7Q3_lsf9DY",
        "outputId": "ad1f9bdd-e792-4586-e4d2-88d4a682e904"
      },
      "execution_count": 30,
      "outputs": [
        {
          "output_type": "execute_result",
          "data": {
            "text/plain": [
              "(400, 66)"
            ]
          },
          "metadata": {},
          "execution_count": 30
        }
      ]
    },
    {
      "cell_type": "code",
      "source": [
        "log_reg_poly = sm.Logit(y_train, x_poly).fit()"
      ],
      "metadata": {
        "colab": {
          "base_uri": "https://localhost:8080/"
        },
        "id": "ddXFV64zf9F2",
        "outputId": "ef0cacd4-7a48-4e43-eaae-1a0821116bcf"
      },
      "execution_count": 31,
      "outputs": [
        {
          "output_type": "stream",
          "name": "stdout",
          "text": [
            "Optimization terminated successfully.\n",
            "         Current function value: 0.171360\n",
            "         Iterations 11\n"
          ]
        }
      ]
    },
    {
      "cell_type": "code",
      "source": [
        "print(log_reg_poly.summary())"
      ],
      "metadata": {
        "id": "53TPVoLShAd3"
      },
      "execution_count": null,
      "outputs": []
    },
    {
      "cell_type": "code",
      "source": [
        "accuracy_score(y_test, list(map(round, log_reg_poly.predict(poly.fit_transform(x_test)))))"
      ],
      "metadata": {
        "colab": {
          "base_uri": "https://localhost:8080/"
        },
        "id": "XvGPau6thAgT",
        "outputId": "c2c125ac-2100-4c78-e9d1-cd70c9fa7208"
      },
      "execution_count": 32,
      "outputs": [
        {
          "output_type": "execute_result",
          "data": {
            "text/plain": [
              "0.72"
            ]
          },
          "metadata": {},
          "execution_count": 32
        }
      ]
    },
    {
      "cell_type": "markdown",
      "source": [
        "Four Factors"
      ],
      "metadata": {
        "id": "wAbgQa3xClEM"
      }
    },
    {
      "cell_type": "code",
      "source": [
        "dfa = pd.read_csv('/content/sample_data/advanced_box_score_2023.csv', encoding='latin-1')"
      ],
      "metadata": {
        "id": "owDBVgCzClOw"
      },
      "execution_count": 134,
      "outputs": []
    },
    {
      "cell_type": "code",
      "source": [
        "dfa['W/L'] = pd.get_dummies(dfa['W/L'])['W']"
      ],
      "metadata": {
        "id": "rc9TR1VH6HCs"
      },
      "execution_count": 135,
      "outputs": []
    },
    {
      "cell_type": "code",
      "source": [
        "dfa.head(5)"
      ],
      "metadata": {
        "id": "VYw1Lu_yClQ-"
      },
      "execution_count": null,
      "outputs": []
    },
    {
      "cell_type": "code",
      "source": [
        "dfa_1 = dfa.loc[:,~dfa.columns.isin(['TEAM','MATCH_UP','GAME_DATE','MIN','OFFRTG','DEFRTG','NETRTG'])]"
      ],
      "metadata": {
        "id": "ztLtHgrjClV-"
      },
      "execution_count": 68,
      "outputs": []
    },
    {
      "cell_type": "code",
      "source": [
        "xa_1 = dfa_1.loc[:,dfa_1.columns != 'W/L'].reset_index(drop = True) \n",
        "ya_1 = dfa_1.loc[:,dfa_1.columns == 'W/L'].reset_index(drop = True)"
      ],
      "metadata": {
        "id": "fG5_BK2uClX9"
      },
      "execution_count": 69,
      "outputs": []
    },
    {
      "cell_type": "code",
      "source": [
        "ya_1 = ya_1['W/L']"
      ],
      "metadata": {
        "id": "17YIbvpzClaX"
      },
      "execution_count": 70,
      "outputs": []
    },
    {
      "cell_type": "code",
      "source": [
        "# split train and test by 4:1\n",
        "xa_train, xa_test, ya_train, ya_test = train_test_split(xa_1,ya_1,test_size=0.2)"
      ],
      "metadata": {
        "id": "SwlexKA6B2es"
      },
      "execution_count": 131,
      "outputs": []
    },
    {
      "cell_type": "code",
      "source": [
        "log_reg = sm.Logit(ya_train, xa_train.astype(float)).fit()"
      ],
      "metadata": {
        "id": "PN1PKmoIB2hS"
      },
      "execution_count": null,
      "outputs": []
    },
    {
      "cell_type": "code",
      "source": [
        "accuracy_score(ya_test, list(map(round, log_reg.predict(xa_test))))"
      ],
      "metadata": {
        "colab": {
          "base_uri": "https://localhost:8080/"
        },
        "id": "hSZ9rZRSB2jv",
        "outputId": "323ec063-0e7b-40bc-d60b-a9830fd7fb95"
      },
      "execution_count": 133,
      "outputs": [
        {
          "output_type": "execute_result",
          "data": {
            "text/plain": [
              "0.8827586206896552"
            ]
          },
          "metadata": {},
          "execution_count": 133
        }
      ]
    },
    {
      "cell_type": "code",
      "source": [
        "# run 10 batches\n"
      ],
      "metadata": {
        "id": "pB707sEVB2mO"
      },
      "execution_count": null,
      "outputs": []
    },
    {
      "cell_type": "markdown",
      "source": [
        "Robust Regression?"
      ],
      "metadata": {
        "id": "EtUolpWgqT6m"
      }
    },
    {
      "cell_type": "code",
      "source": [],
      "metadata": {
        "id": "SUTw_GdIp7KM"
      },
      "execution_count": null,
      "outputs": []
    },
    {
      "cell_type": "code",
      "source": [],
      "metadata": {
        "id": "VBmpobyNp7L2"
      },
      "execution_count": null,
      "outputs": []
    }
  ]
}